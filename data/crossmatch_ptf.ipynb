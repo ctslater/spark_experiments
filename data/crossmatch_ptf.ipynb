{
 "cells": [
  {
   "cell_type": "code",
   "execution_count": 1,
   "metadata": {
    "collapsed": true
   },
   "outputs": [],
   "source": [
    "%matplotlib inline\n",
    "\n",
    "import numpy as np\n",
    "import matplotlib.pyplot as plt\n",
    "from scipy.spatial import cKDTree\n",
    "from esutil.htm import HTM\n",
    "from astropy.io import fits\n",
    "import glob\n",
    "\n",
    "plt.rc('figure', dpi=120)"
   ]
  },
  {
   "cell_type": "code",
   "execution_count": 2,
   "metadata": {
    "collapsed": true
   },
   "outputs": [],
   "source": [
    "if False:\n",
    "    from pyspark import SparkContext, SparkConf\n",
    "    from pyspark.sql import SparkSession\n",
    "    from pyspark.sql import Row\n",
    "\n",
    "    sc = SparkContext('local[*]')\n",
    "    sc.setLogLevel(\"WARN\")\n",
    "else:\n",
    "    from pysparkling import Context\n",
    "    sc = Context()\n",
    "\n",
    "#spark = SparkSession(sc)"
   ]
  },
  {
   "cell_type": "code",
   "execution_count": 6,
   "metadata": {
    "collapsed": true
   },
   "outputs": [],
   "source": [
    "from pyspark.sql import Row"
   ]
  },
  {
   "cell_type": "code",
   "execution_count": 3,
   "metadata": {
    "collapsed": true
   },
   "outputs": [],
   "source": [
    "example_filename = \"ptf_catalogs/PTF_200912024227_c_p_scie_t100845_u011771826_f02_p101001_c09.ctlg\"\n",
    "example_file = fits.open(example_filename)\n",
    "example_data = example_file[1].data"
   ]
  },
  {
   "cell_type": "code",
   "execution_count": 4,
   "metadata": {},
   "outputs": [
    {
     "data": {
      "text/plain": [
       "dtype((numpy.record, [('NUMBER', '>i4'), ('FLAGS', '>i2'), ('XWIN_IMAGE', '>f8'), ('YWIN_IMAGE', '>f8'), ('X_WORLD', '>f8'), ('Y_WORLD', '>f8'), ('XPEAK_IMAGE', '>i4'), ('YPEAK_IMAGE', '>i4'), ('ERRTHETAWIN_IMAGE', '>f4'), ('DELTAWIN_J2000', '>f8'), ('X2WIN_IMAGE', '>f8'), ('Y2WIN_IMAGE', '>f8'), ('XYWIN_IMAGE', '>f8'), ('AWIN_WORLD', '>f4'), ('BWIN_WORLD', '>f4'), ('MAG_ISO', '>f4'), ('MAGERR_ISO', '>f4'), ('MAG_AUTO', '>f4'), ('MAGERR_AUTO', '>f4'), ('MAG_ISOCOR', '>f4'), ('MAGERR_ISOCOR', '>f4'), ('MAG_APER', '>f4', (5,)), ('MAGERR_APER', '>f4', (5,)), ('MAG_PETRO', '>f4'), ('MAGERR_PETRO', '>f4'), ('MAG_BEST', '>f4'), ('MAGERR_BEST', '>f4'), ('MU_THRESHOLD', '>f4'), ('MU_MAX', '>f4'), ('BACKGROUND', '>f4'), ('THRESHOLD', '>f4'), ('ALPHAWIN_J2000', '>f8'), ('THETAWIN_IMAGE', '>f4'), ('THETAWIN_J2000', '>f4'), ('ELONGATION', '>f4'), ('ISOAREA_WORLD', '>f4'), ('ISOAREAF_WORLD', '>f4'), ('ISO0', '>i4'), ('ISO1', '>i4'), ('ISO2', '>i4'), ('ISO3', '>i4'), ('ISO4', '>i4'), ('ISO5', '>i4'), ('ISO6', '>i4'), ('ISO7', '>i4'), ('FWHM_IMAGE', '>f4'), ('KRON_RADIUS', '>f4'), ('PETRO_RADIUS', '>f4'), ('CLASS_STAR', '>f4'), ('FLUX_BEST', '>f4'), ('FLUXERR_BEST', '>f4'), ('FLUX_AUTO', '>f4'), ('FLUXERR_AUTO', '>f4'), ('FLUX_ISO', '>f4'), ('FLUXERR_ISO', '>f4'), ('FLUX_APER', '>f4', (5,)), ('FLUXERR_APER', '>f4', (5,)), ('X_IMAGE', '>f4'), ('Y_IMAGE', '>f4'), ('X2_IMAGE', '>f8'), ('Y2_IMAGE', '>f8'), ('XY_IMAGE', '>f8'), ('THETA_IMAGE', '>f4'), ('ERRAWIN_IMAGE', '>f4'), ('ERRBWIN_IMAGE', '>f4'), ('THETAWIN_WORLD', '>f4'), ('ERRX2WIN_IMAGE', '>f8'), ('ERRY2WIN_IMAGE', '>f8'), ('ERRXYWIN_IMAGE', '>f8'), ('FLUX_RADIUS', '>f4', (5,)), ('IMAFLAGS_ISO', '>i4'), ('NIMAFLAGS_ISO', '>i4'), ('ERRAWIN_WORLD', '>f4'), ('ERRBWIN_WORLD', '>f4'), ('ERRTHETAWIN_WORLD', '>f4'), ('A_IMAGE', '>f4'), ('ERRA_IMAGE', '>f4'), ('B_IMAGE', '>f4'), ('ERRB_IMAGE', '>f4'), ('A_WORLD', '>f4'), ('ERRA_WORLD', '>f4'), ('B_WORLD', '>f4'), ('ERRB_WORLD', '>f4'), ('ERRTHETA_IMAGE', '>f4'), ('ERRX2_IMAGE', '>f8'), ('ERRY2_IMAGE', '>f8'), ('ERRXY_IMAGE', '>f8'), ('AWIN_IMAGE', '>f4'), ('BWIN_IMAGE', '>f4'), ('FLUX_PETRO', '>f4'), ('FLUXERR_PETRO', '>f4'), ('ZEROPOINT', '>f4')]))"
      ]
     },
     "execution_count": 4,
     "metadata": {},
     "output_type": "execute_result"
    }
   ],
   "source": [
    "example_data.dtype"
   ]
  },
  {
   "cell_type": "code",
   "execution_count": 14,
   "metadata": {
    "collapsed": true
   },
   "outputs": [],
   "source": [
    "ra_field, dec_field = \"ALPHAWIN_J2000\", \"DELTAWIN_J2000\""
   ]
  },
  {
   "cell_type": "code",
   "execution_count": 11,
   "metadata": {
    "scrolled": true
   },
   "outputs": [
    {
     "ename": "KeyboardInterrupt",
     "evalue": "",
     "output_type": "error",
     "traceback": [
      "\u001b[0;31m---------------------------------------------------------------------------\u001b[0m",
      "\u001b[0;31mKeyboardInterrupt\u001b[0m                         Traceback (most recent call last)",
      "\u001b[0;32m<ipython-input-11-40860a993654>\u001b[0m in \u001b[0;36m<module>\u001b[0;34m()\u001b[0m\n\u001b[0;32m----> 1\u001b[0;31m \u001b[0mget_ipython\u001b[0m\u001b[0;34m(\u001b[0m\u001b[0;34m)\u001b[0m\u001b[0;34m.\u001b[0m\u001b[0mrun_cell_magic\u001b[0m\u001b[0;34m(\u001b[0m\u001b[0;34m'prun'\u001b[0m\u001b[0;34m,\u001b[0m \u001b[0;34m''\u001b[0m\u001b[0;34m,\u001b[0m \u001b[0;34m'def readPTFFile(filename):\\n    f = fits.open(filename)\\n    data = f[1].data\\n    field_names = list(set(data.names) - set((\\'MAG_APER\\', \\'MAGERR_APER\\', \\'FLUX_APER\\', \\'FLUXERR_APER\\', \\'FLUX_RADIUS\\')))\\n    placeholders = {\\'htm_id\\': 0, \\'obj_id\\': 0}\\n    rows = [Row(**{field: row[field].item() for field in field_names}, **placeholders) for row in data]\\n    return rows\\n\\ndef add_htmid(object_tuple):\\n    htm_obj = HTM(depth=7)\\n    ra_field, dec_field = \"ALPHAWIN_J2000\", \"DELTAWIN_J2000\"\\n    \\n    ra = object_tuple[ra_field]\\n    dec = object_tuple[dec_field]\\n    htm_id = htm_obj.lookup_id(ra, dec)\\n    \\n    return htm_id.item()\\n\\ndef match_sources(input_tuple):\\n    htm_id, records = input_tuple\\n    \\n    ra_field, dec_field = \"ALPHAWIN_J2000\", \"DELTAWIN_J2000\"\\n    \\n    input_dict = {k: v for (k, v) in zip(range(len(records)), records)}\\n    \\n    ra = np.array([x[ra_field] for x in records])\\n    dec = np.array([x[dec_field] for x in records])\\n\\n    tree = cKDTree(np.stack((ra, dec), axis=1))\\n\\n    candidate_groups = []\\n    # First pass, just to get groupings\\n    for this_id in range(len(ra)):\\n        dists, idx = tree.query( (ra[this_id], dec[this_id]), k=15, distance_upper_bound=4/3600.0)\\n        sel, = np.where((dists < 3/3600.0) & (idx != this_id))\\n        this_group = [input_dict[this_id]]\\n        for n in idx[sel]:\\n            this_group.append((input_dict[n]))\\n        candidate_groups.append(this_group)\\n    \\n    # Second pass uses the mean position of the sources in each group, then re-matches\\n    # This potentially matches sources into multiple objects\\n    output_groups = []\\n    for candidate_group in candidate_groups:\\n        mean_ra = np.mean(np.array([x[1] for x in candidate_group]))\\n        mean_dec = np.mean(np.array([x[2] for x in candidate_group]))        \\n        dists, idx = tree.query( (mean_ra, mean_dec), k=15, distance_upper_bound=4/3600.0)\\n        sel, = np.where((dists < 3/3600.0))\\n        this_group = []\\n        for n in idx[sel]:\\n            this_group.append((input_dict[n]))\\n        output_groups.append(this_group)\\n    return output_groups\\n\\ndef apply_obj_id(input):\\n    iterator, obj_id = input\\n    return [Row(**values.asDict(), **{\"obj_id\": obj_id, \"htm_id\": add_htmid(values)}) for values in iterator]\\n\\nfilenames = glob.glob(\"ptf_catalogs/*ctlg\")[:3]\\ngrouped_records = sc.parallelize(filenames).flatMap(readPTFFile).keyBy(add_htmid).groupByKey()\\nmatched_records = grouped_records.map(match_sources).flatMap(lambda x: x).zipWithUniqueId()\\ntagged_source_records = matched_records.flatMap(apply_obj_id).collect()\\n\\n#field_names = list(set(data.names) - set((\\'MAG_APER\\', \\'MAGERR_APER\\', \\'FLUX_APER\\', \\'FLUXERR_APER\\', \\'FLUX_RADIUS\\')))\\n#sources_df = spark.createDataFrame(tagged_source_records, schema=(\"source_id\", \"ra\", \"dec\"))'\u001b[0m\u001b[0;34m)\u001b[0m\u001b[0;34m\u001b[0m\u001b[0m\n\u001b[0m",
      "\u001b[0;32m/opt/conda/lib/python3.5/site-packages/IPython/core/interactiveshell.py\u001b[0m in \u001b[0;36mrun_cell_magic\u001b[0;34m(self, magic_name, line, cell)\u001b[0m\n\u001b[1;32m   2085\u001b[0m             \u001b[0mmagic_arg_s\u001b[0m \u001b[0;34m=\u001b[0m \u001b[0mself\u001b[0m\u001b[0;34m.\u001b[0m\u001b[0mvar_expand\u001b[0m\u001b[0;34m(\u001b[0m\u001b[0mline\u001b[0m\u001b[0;34m,\u001b[0m \u001b[0mstack_depth\u001b[0m\u001b[0;34m)\u001b[0m\u001b[0;34m\u001b[0m\u001b[0m\n\u001b[1;32m   2086\u001b[0m             \u001b[0;32mwith\u001b[0m \u001b[0mself\u001b[0m\u001b[0;34m.\u001b[0m\u001b[0mbuiltin_trap\u001b[0m\u001b[0;34m:\u001b[0m\u001b[0;34m\u001b[0m\u001b[0m\n\u001b[0;32m-> 2087\u001b[0;31m                 \u001b[0mresult\u001b[0m \u001b[0;34m=\u001b[0m \u001b[0mfn\u001b[0m\u001b[0;34m(\u001b[0m\u001b[0mmagic_arg_s\u001b[0m\u001b[0;34m,\u001b[0m \u001b[0mcell\u001b[0m\u001b[0;34m)\u001b[0m\u001b[0;34m\u001b[0m\u001b[0m\n\u001b[0m\u001b[1;32m   2088\u001b[0m             \u001b[0;32mreturn\u001b[0m \u001b[0mresult\u001b[0m\u001b[0;34m\u001b[0m\u001b[0m\n\u001b[1;32m   2089\u001b[0m \u001b[0;34m\u001b[0m\u001b[0m\n",
      "\u001b[0;32m<decorator-gen-54>\u001b[0m in \u001b[0;36mprun\u001b[0;34m(self, parameter_s, cell)\u001b[0m\n",
      "\u001b[0;32m/opt/conda/lib/python3.5/site-packages/IPython/core/magic.py\u001b[0m in \u001b[0;36m<lambda>\u001b[0;34m(f, *a, **k)\u001b[0m\n\u001b[1;32m    186\u001b[0m     \u001b[0;31m# but it's overkill for just that one bit of state.\u001b[0m\u001b[0;34m\u001b[0m\u001b[0;34m\u001b[0m\u001b[0m\n\u001b[1;32m    187\u001b[0m     \u001b[0;32mdef\u001b[0m \u001b[0mmagic_deco\u001b[0m\u001b[0;34m(\u001b[0m\u001b[0marg\u001b[0m\u001b[0;34m)\u001b[0m\u001b[0;34m:\u001b[0m\u001b[0;34m\u001b[0m\u001b[0m\n\u001b[0;32m--> 188\u001b[0;31m         \u001b[0mcall\u001b[0m \u001b[0;34m=\u001b[0m \u001b[0;32mlambda\u001b[0m \u001b[0mf\u001b[0m\u001b[0;34m,\u001b[0m \u001b[0;34m*\u001b[0m\u001b[0ma\u001b[0m\u001b[0;34m,\u001b[0m \u001b[0;34m**\u001b[0m\u001b[0mk\u001b[0m\u001b[0;34m:\u001b[0m \u001b[0mf\u001b[0m\u001b[0;34m(\u001b[0m\u001b[0;34m*\u001b[0m\u001b[0ma\u001b[0m\u001b[0;34m,\u001b[0m \u001b[0;34m**\u001b[0m\u001b[0mk\u001b[0m\u001b[0;34m)\u001b[0m\u001b[0;34m\u001b[0m\u001b[0m\n\u001b[0m\u001b[1;32m    189\u001b[0m \u001b[0;34m\u001b[0m\u001b[0m\n\u001b[1;32m    190\u001b[0m         \u001b[0;32mif\u001b[0m \u001b[0mcallable\u001b[0m\u001b[0;34m(\u001b[0m\u001b[0marg\u001b[0m\u001b[0;34m)\u001b[0m\u001b[0;34m:\u001b[0m\u001b[0;34m\u001b[0m\u001b[0m\n",
      "\u001b[0;32m/opt/conda/lib/python3.5/site-packages/IPython/core/magics/execution.py\u001b[0m in \u001b[0;36mprun\u001b[0;34m(self, parameter_s, cell)\u001b[0m\n\u001b[1;32m    299\u001b[0m             \u001b[0marg_str\u001b[0m \u001b[0;34m+=\u001b[0m \u001b[0;34m'\\n'\u001b[0m \u001b[0;34m+\u001b[0m \u001b[0mcell\u001b[0m\u001b[0;34m\u001b[0m\u001b[0m\n\u001b[1;32m    300\u001b[0m         \u001b[0marg_str\u001b[0m \u001b[0;34m=\u001b[0m \u001b[0mself\u001b[0m\u001b[0;34m.\u001b[0m\u001b[0mshell\u001b[0m\u001b[0;34m.\u001b[0m\u001b[0minput_splitter\u001b[0m\u001b[0;34m.\u001b[0m\u001b[0mtransform_cell\u001b[0m\u001b[0;34m(\u001b[0m\u001b[0marg_str\u001b[0m\u001b[0;34m)\u001b[0m\u001b[0;34m\u001b[0m\u001b[0m\n\u001b[0;32m--> 301\u001b[0;31m         \u001b[0;32mreturn\u001b[0m \u001b[0mself\u001b[0m\u001b[0;34m.\u001b[0m\u001b[0m_run_with_profiler\u001b[0m\u001b[0;34m(\u001b[0m\u001b[0marg_str\u001b[0m\u001b[0;34m,\u001b[0m \u001b[0mopts\u001b[0m\u001b[0;34m,\u001b[0m \u001b[0mself\u001b[0m\u001b[0;34m.\u001b[0m\u001b[0mshell\u001b[0m\u001b[0;34m.\u001b[0m\u001b[0muser_ns\u001b[0m\u001b[0;34m)\u001b[0m\u001b[0;34m\u001b[0m\u001b[0m\n\u001b[0m\u001b[1;32m    302\u001b[0m \u001b[0;34m\u001b[0m\u001b[0m\n\u001b[1;32m    303\u001b[0m     \u001b[0;32mdef\u001b[0m \u001b[0m_run_with_profiler\u001b[0m\u001b[0;34m(\u001b[0m\u001b[0mself\u001b[0m\u001b[0;34m,\u001b[0m \u001b[0mcode\u001b[0m\u001b[0;34m,\u001b[0m \u001b[0mopts\u001b[0m\u001b[0;34m,\u001b[0m \u001b[0mnamespace\u001b[0m\u001b[0;34m)\u001b[0m\u001b[0;34m:\u001b[0m\u001b[0;34m\u001b[0m\u001b[0m\n",
      "\u001b[0;32m/opt/conda/lib/python3.5/site-packages/IPython/core/magics/execution.py\u001b[0m in \u001b[0;36m_run_with_profiler\u001b[0;34m(self, code, opts, namespace)\u001b[0m\n\u001b[1;32m    321\u001b[0m         \u001b[0mprof\u001b[0m \u001b[0;34m=\u001b[0m \u001b[0mprofile\u001b[0m\u001b[0;34m.\u001b[0m\u001b[0mProfile\u001b[0m\u001b[0;34m(\u001b[0m\u001b[0;34m)\u001b[0m\u001b[0;34m\u001b[0m\u001b[0m\n\u001b[1;32m    322\u001b[0m         \u001b[0;32mtry\u001b[0m\u001b[0;34m:\u001b[0m\u001b[0;34m\u001b[0m\u001b[0m\n\u001b[0;32m--> 323\u001b[0;31m             \u001b[0mprof\u001b[0m \u001b[0;34m=\u001b[0m \u001b[0mprof\u001b[0m\u001b[0;34m.\u001b[0m\u001b[0mrunctx\u001b[0m\u001b[0;34m(\u001b[0m\u001b[0mcode\u001b[0m\u001b[0;34m,\u001b[0m \u001b[0mnamespace\u001b[0m\u001b[0;34m,\u001b[0m \u001b[0mnamespace\u001b[0m\u001b[0;34m)\u001b[0m\u001b[0;34m\u001b[0m\u001b[0m\n\u001b[0m\u001b[1;32m    324\u001b[0m             \u001b[0msys_exit\u001b[0m \u001b[0;34m=\u001b[0m \u001b[0;34m''\u001b[0m\u001b[0;34m\u001b[0m\u001b[0m\n\u001b[1;32m    325\u001b[0m         \u001b[0;32mexcept\u001b[0m \u001b[0mSystemExit\u001b[0m\u001b[0;34m:\u001b[0m\u001b[0;34m\u001b[0m\u001b[0m\n",
      "\u001b[0;32m/opt/conda/lib/python3.5/cProfile.py\u001b[0m in \u001b[0;36mrunctx\u001b[0;34m(self, cmd, globals, locals)\u001b[0m\n\u001b[1;32m     98\u001b[0m         \u001b[0mself\u001b[0m\u001b[0;34m.\u001b[0m\u001b[0menable\u001b[0m\u001b[0;34m(\u001b[0m\u001b[0;34m)\u001b[0m\u001b[0;34m\u001b[0m\u001b[0m\n\u001b[1;32m     99\u001b[0m         \u001b[0;32mtry\u001b[0m\u001b[0;34m:\u001b[0m\u001b[0;34m\u001b[0m\u001b[0m\n\u001b[0;32m--> 100\u001b[0;31m             \u001b[0mexec\u001b[0m\u001b[0;34m(\u001b[0m\u001b[0mcmd\u001b[0m\u001b[0;34m,\u001b[0m \u001b[0mglobals\u001b[0m\u001b[0;34m,\u001b[0m \u001b[0mlocals\u001b[0m\u001b[0;34m)\u001b[0m\u001b[0;34m\u001b[0m\u001b[0m\n\u001b[0m\u001b[1;32m    101\u001b[0m         \u001b[0;32mfinally\u001b[0m\u001b[0;34m:\u001b[0m\u001b[0;34m\u001b[0m\u001b[0m\n\u001b[1;32m    102\u001b[0m             \u001b[0mself\u001b[0m\u001b[0;34m.\u001b[0m\u001b[0mdisable\u001b[0m\u001b[0;34m(\u001b[0m\u001b[0;34m)\u001b[0m\u001b[0;34m\u001b[0m\u001b[0m\n",
      "\u001b[0;32m<string>\u001b[0m in \u001b[0;36m<module>\u001b[0;34m()\u001b[0m\n",
      "\u001b[0;32m/home/jovyan/.local/lib/python3.5/site-packages/pysparkling/rdd.py\u001b[0m in \u001b[0;36mgroupByKey\u001b[0;34m(self, numPartitions)\u001b[0m\n\u001b[1;32m    640\u001b[0m \u001b[0;34m\u001b[0m\u001b[0m\n\u001b[1;32m    641\u001b[0m         \u001b[0mr\u001b[0m \u001b[0;34m=\u001b[0m \u001b[0mdefaultdict\u001b[0m\u001b[0;34m(\u001b[0m\u001b[0mlist\u001b[0m\u001b[0;34m)\u001b[0m\u001b[0;34m\u001b[0m\u001b[0m\n\u001b[0;32m--> 642\u001b[0;31m         \u001b[0;32mfor\u001b[0m \u001b[0mkey\u001b[0m\u001b[0;34m,\u001b[0m \u001b[0mvalue\u001b[0m \u001b[0;32min\u001b[0m \u001b[0mself\u001b[0m\u001b[0;34m.\u001b[0m\u001b[0mtoLocalIterator\u001b[0m\u001b[0;34m(\u001b[0m\u001b[0;34m)\u001b[0m\u001b[0;34m:\u001b[0m\u001b[0;34m\u001b[0m\u001b[0m\n\u001b[0m\u001b[1;32m    643\u001b[0m             \u001b[0mr\u001b[0m\u001b[0;34m[\u001b[0m\u001b[0mkey\u001b[0m\u001b[0;34m]\u001b[0m\u001b[0;34m.\u001b[0m\u001b[0mappend\u001b[0m\u001b[0;34m(\u001b[0m\u001b[0mvalue\u001b[0m\u001b[0;34m)\u001b[0m\u001b[0;34m\u001b[0m\u001b[0m\n\u001b[1;32m    644\u001b[0m \u001b[0;34m\u001b[0m\u001b[0m\n",
      "\u001b[0;32m/home/jovyan/.local/lib/python3.5/site-packages/pysparkling/rdd.py\u001b[0m in \u001b[0;36m<genexpr>\u001b[0;34m(.0)\u001b[0m\n\u001b[1;32m   1576\u001b[0m         return self.context.runJob(\n\u001b[1;32m   1577\u001b[0m             \u001b[0mself\u001b[0m\u001b[0;34m,\u001b[0m \u001b[0;32mlambda\u001b[0m \u001b[0mtc\u001b[0m\u001b[0;34m,\u001b[0m \u001b[0mi\u001b[0m\u001b[0;34m:\u001b[0m \u001b[0mlist\u001b[0m\u001b[0;34m(\u001b[0m\u001b[0mi\u001b[0m\u001b[0;34m)\u001b[0m\u001b[0;34m,\u001b[0m\u001b[0;34m\u001b[0m\u001b[0m\n\u001b[0;32m-> 1578\u001b[0;31m             \u001b[0mresultHandler\u001b[0m\u001b[0;34m=\u001b[0m\u001b[0;32mlambda\u001b[0m \u001b[0ml\u001b[0m\u001b[0;34m:\u001b[0m \u001b[0;34m(\u001b[0m\u001b[0mx\u001b[0m \u001b[0;32mfor\u001b[0m \u001b[0mp\u001b[0m \u001b[0;32min\u001b[0m \u001b[0ml\u001b[0m \u001b[0;32mfor\u001b[0m \u001b[0mx\u001b[0m \u001b[0;32min\u001b[0m \u001b[0mp\u001b[0m\u001b[0;34m)\u001b[0m\u001b[0;34m,\u001b[0m\u001b[0;34m\u001b[0m\u001b[0m\n\u001b[0m\u001b[1;32m   1579\u001b[0m         )\n\u001b[1;32m   1580\u001b[0m \u001b[0;34m\u001b[0m\u001b[0m\n",
      "\u001b[0;32m/home/jovyan/.local/lib/python3.5/site-packages/pysparkling/context.py\u001b[0m in \u001b[0;36m_runJob_local\u001b[0;34m(self, rdd, func, partitions)\u001b[0m\n\u001b[1;32m    296\u001b[0m                 \u001b[0mretry_wait\u001b[0m\u001b[0;34m=\u001b[0m\u001b[0mself\u001b[0m\u001b[0;34m.\u001b[0m\u001b[0mretry_wait\u001b[0m\u001b[0;34m,\u001b[0m\u001b[0;34m\u001b[0m\u001b[0m\n\u001b[1;32m    297\u001b[0m             )\n\u001b[0;32m--> 298\u001b[0;31m             \u001b[0;32myield\u001b[0m \u001b[0m_run_task\u001b[0m\u001b[0;34m(\u001b[0m\u001b[0mtask_context\u001b[0m\u001b[0;34m,\u001b[0m \u001b[0mrdd\u001b[0m\u001b[0;34m,\u001b[0m \u001b[0mfunc\u001b[0m\u001b[0;34m,\u001b[0m \u001b[0mpartition\u001b[0m\u001b[0;34m)\u001b[0m\u001b[0;34m\u001b[0m\u001b[0m\n\u001b[0m\u001b[1;32m    299\u001b[0m \u001b[0;34m\u001b[0m\u001b[0m\n\u001b[1;32m    300\u001b[0m     \u001b[0;32mdef\u001b[0m \u001b[0m_runJob_distributed\u001b[0m\u001b[0;34m(\u001b[0m\u001b[0mself\u001b[0m\u001b[0;34m,\u001b[0m \u001b[0mrdd\u001b[0m\u001b[0;34m,\u001b[0m \u001b[0mfunc\u001b[0m\u001b[0;34m,\u001b[0m \u001b[0mpartitions\u001b[0m\u001b[0;34m)\u001b[0m\u001b[0;34m:\u001b[0m\u001b[0;34m\u001b[0m\u001b[0m\n",
      "\u001b[0;32m/home/jovyan/.local/lib/python3.5/site-packages/pysparkling/context.py\u001b[0m in \u001b[0;36m_run_task\u001b[0;34m(task_context, rdd, func, partition)\u001b[0m\n\u001b[1;32m     44\u001b[0m \u001b[0;34m\u001b[0m\u001b[0m\n\u001b[1;32m     45\u001b[0m     \u001b[0;32mtry\u001b[0m\u001b[0;34m:\u001b[0m\u001b[0;34m\u001b[0m\u001b[0m\n\u001b[0;32m---> 46\u001b[0;31m         \u001b[0;32mreturn\u001b[0m \u001b[0mfunc\u001b[0m\u001b[0;34m(\u001b[0m\u001b[0mtask_context\u001b[0m\u001b[0;34m,\u001b[0m \u001b[0mrdd\u001b[0m\u001b[0;34m.\u001b[0m\u001b[0mcompute\u001b[0m\u001b[0;34m(\u001b[0m\u001b[0mpartition\u001b[0m\u001b[0;34m,\u001b[0m \u001b[0mtask_context\u001b[0m\u001b[0;34m)\u001b[0m\u001b[0;34m)\u001b[0m\u001b[0;34m\u001b[0m\u001b[0m\n\u001b[0m\u001b[1;32m     47\u001b[0m     \u001b[0;32mexcept\u001b[0m \u001b[0mException\u001b[0m\u001b[0;34m:\u001b[0m\u001b[0;34m\u001b[0m\u001b[0m\n\u001b[1;32m     48\u001b[0m         log.warn('Attempt {} failed for partition {} of {}.'\n",
      "\u001b[0;32m/home/jovyan/.local/lib/python3.5/site-packages/pysparkling/rdd.py\u001b[0m in \u001b[0;36m<lambda>\u001b[0;34m(tc, i)\u001b[0m\n\u001b[1;32m   1575\u001b[0m         \"\"\"\n\u001b[1;32m   1576\u001b[0m         return self.context.runJob(\n\u001b[0;32m-> 1577\u001b[0;31m             \u001b[0mself\u001b[0m\u001b[0;34m,\u001b[0m \u001b[0;32mlambda\u001b[0m \u001b[0mtc\u001b[0m\u001b[0;34m,\u001b[0m \u001b[0mi\u001b[0m\u001b[0;34m:\u001b[0m \u001b[0mlist\u001b[0m\u001b[0;34m(\u001b[0m\u001b[0mi\u001b[0m\u001b[0;34m)\u001b[0m\u001b[0;34m,\u001b[0m\u001b[0;34m\u001b[0m\u001b[0m\n\u001b[0m\u001b[1;32m   1578\u001b[0m             \u001b[0mresultHandler\u001b[0m\u001b[0;34m=\u001b[0m\u001b[0;32mlambda\u001b[0m \u001b[0ml\u001b[0m\u001b[0;34m:\u001b[0m \u001b[0;34m(\u001b[0m\u001b[0mx\u001b[0m \u001b[0;32mfor\u001b[0m \u001b[0mp\u001b[0m \u001b[0;32min\u001b[0m \u001b[0ml\u001b[0m \u001b[0;32mfor\u001b[0m \u001b[0mx\u001b[0m \u001b[0;32min\u001b[0m \u001b[0mp\u001b[0m\u001b[0;34m)\u001b[0m\u001b[0;34m,\u001b[0m\u001b[0;34m\u001b[0m\u001b[0m\n\u001b[1;32m   1579\u001b[0m         )\n",
      "\u001b[0;32m/home/jovyan/.local/lib/python3.5/site-packages/pysparkling/rdd.py\u001b[0m in \u001b[0;36m<genexpr>\u001b[0;34m(.0)\u001b[0m\n\u001b[1;32m   1799\u001b[0m \u001b[0;34m\u001b[0m\u001b[0m\n\u001b[1;32m   1800\u001b[0m     \u001b[0;32mdef\u001b[0m \u001b[0m__call__\u001b[0m\u001b[0;34m(\u001b[0m\u001b[0mself\u001b[0m\u001b[0;34m,\u001b[0m \u001b[0mtc\u001b[0m\u001b[0;34m,\u001b[0m \u001b[0mi\u001b[0m\u001b[0;34m,\u001b[0m \u001b[0mx\u001b[0m\u001b[0;34m)\u001b[0m\u001b[0;34m:\u001b[0m\u001b[0;34m\u001b[0m\u001b[0m\n\u001b[0;32m-> 1801\u001b[0;31m         \u001b[0;32mreturn\u001b[0m \u001b[0;34m(\u001b[0m\u001b[0mself\u001b[0m\u001b[0;34m.\u001b[0m\u001b[0mf\u001b[0m\u001b[0;34m(\u001b[0m\u001b[0mxx\u001b[0m\u001b[0;34m)\u001b[0m \u001b[0;32mfor\u001b[0m \u001b[0mxx\u001b[0m \u001b[0;32min\u001b[0m \u001b[0mx\u001b[0m\u001b[0;34m)\u001b[0m\u001b[0;34m\u001b[0m\u001b[0m\n\u001b[0m\u001b[1;32m   1802\u001b[0m \u001b[0;34m\u001b[0m\u001b[0m\n\u001b[1;32m   1803\u001b[0m \u001b[0;34m\u001b[0m\u001b[0m\n",
      "\u001b[0;32m/home/jovyan/.local/lib/python3.5/site-packages/pysparkling/rdd.py\u001b[0m in \u001b[0;36m<genexpr>\u001b[0;34m(.0)\u001b[0m\n\u001b[1;32m    469\u001b[0m         return MapPartitionsRDD(\n\u001b[1;32m    470\u001b[0m             \u001b[0mself\u001b[0m\u001b[0;34m,\u001b[0m\u001b[0;34m\u001b[0m\u001b[0m\n\u001b[0;32m--> 471\u001b[0;31m             \u001b[0;32mlambda\u001b[0m \u001b[0mtc\u001b[0m\u001b[0;34m,\u001b[0m \u001b[0mi\u001b[0m\u001b[0;34m,\u001b[0m \u001b[0mx\u001b[0m\u001b[0;34m:\u001b[0m \u001b[0;34m(\u001b[0m\u001b[0me\u001b[0m \u001b[0;32mfor\u001b[0m \u001b[0mxx\u001b[0m \u001b[0;32min\u001b[0m \u001b[0mx\u001b[0m \u001b[0;32mfor\u001b[0m \u001b[0me\u001b[0m \u001b[0;32min\u001b[0m \u001b[0mf\u001b[0m\u001b[0;34m(\u001b[0m\u001b[0mxx\u001b[0m\u001b[0;34m)\u001b[0m\u001b[0;34m)\u001b[0m\u001b[0;34m,\u001b[0m\u001b[0;34m\u001b[0m\u001b[0m\n\u001b[0m\u001b[1;32m    472\u001b[0m             \u001b[0mpreservesPartitioning\u001b[0m\u001b[0;34m=\u001b[0m\u001b[0mpreservesPartitioning\u001b[0m\u001b[0;34m,\u001b[0m\u001b[0;34m\u001b[0m\u001b[0m\n\u001b[1;32m    473\u001b[0m         )\n",
      "\u001b[0;32m<string>\u001b[0m in \u001b[0;36mreadPTFFile\u001b[0;34m(filename)\u001b[0m\n",
      "\u001b[0;32m<string>\u001b[0m in \u001b[0;36m<listcomp>\u001b[0;34m(.0)\u001b[0m\n",
      "\u001b[0;32m<string>\u001b[0m in \u001b[0;36m<dictcomp>\u001b[0;34m(.0)\u001b[0m\n",
      "\u001b[0;32m/home/jovyan/.local/lib/python3.5/site-packages/astropy/io/fits/fitsrec.py\u001b[0m in \u001b[0;36m__getitem__\u001b[0;34m(self, key)\u001b[0m\n\u001b[1;32m     78\u001b[0m                 \u001b[0;32mraise\u001b[0m \u001b[0mIndexError\u001b[0m\u001b[0;34m(\u001b[0m\u001b[0;34m'Index out of bounds'\u001b[0m\u001b[0;34m)\u001b[0m\u001b[0;34m\u001b[0m\u001b[0m\n\u001b[1;32m     79\u001b[0m \u001b[0;34m\u001b[0m\u001b[0m\n\u001b[0;32m---> 80\u001b[0;31m         \u001b[0;32mreturn\u001b[0m \u001b[0mself\u001b[0m\u001b[0;34m.\u001b[0m\u001b[0marray\u001b[0m\u001b[0;34m.\u001b[0m\u001b[0mfield\u001b[0m\u001b[0;34m(\u001b[0m\u001b[0mindx\u001b[0m\u001b[0;34m)\u001b[0m\u001b[0;34m[\u001b[0m\u001b[0mself\u001b[0m\u001b[0;34m.\u001b[0m\u001b[0mrow\u001b[0m\u001b[0;34m]\u001b[0m\u001b[0;34m\u001b[0m\u001b[0m\n\u001b[0m\u001b[1;32m     81\u001b[0m \u001b[0;34m\u001b[0m\u001b[0m\n\u001b[1;32m     82\u001b[0m     \u001b[0;32mdef\u001b[0m \u001b[0m__setitem__\u001b[0m\u001b[0;34m(\u001b[0m\u001b[0mself\u001b[0m\u001b[0;34m,\u001b[0m \u001b[0mkey\u001b[0m\u001b[0;34m,\u001b[0m \u001b[0mvalue\u001b[0m\u001b[0;34m)\u001b[0m\u001b[0;34m:\u001b[0m\u001b[0;34m\u001b[0m\u001b[0m\n",
      "\u001b[0;32m/home/jovyan/.local/lib/python3.5/site-packages/astropy/io/fits/fitsrec.py\u001b[0m in \u001b[0;36mfield\u001b[0;34m(self, key)\u001b[0m\n\u001b[1;32m    702\u001b[0m         \u001b[0;31m# use rec.recarray.field to avoid a potential infinite\u001b[0m\u001b[0;34m\u001b[0m\u001b[0;34m\u001b[0m\u001b[0m\n\u001b[1;32m    703\u001b[0m         \u001b[0;31m# recursion\u001b[0m\u001b[0;34m\u001b[0m\u001b[0;34m\u001b[0m\u001b[0m\n\u001b[0;32m--> 704\u001b[0;31m         \u001b[0mfield\u001b[0m \u001b[0;34m=\u001b[0m \u001b[0m_get_recarray_field\u001b[0m\u001b[0;34m(\u001b[0m\u001b[0mbase\u001b[0m\u001b[0;34m,\u001b[0m \u001b[0mname\u001b[0m\u001b[0;34m)\u001b[0m\u001b[0;34m\u001b[0m\u001b[0m\n\u001b[0m\u001b[1;32m    705\u001b[0m \u001b[0;34m\u001b[0m\u001b[0m\n\u001b[1;32m    706\u001b[0m         \u001b[0;32mif\u001b[0m \u001b[0mname\u001b[0m \u001b[0;32mnot\u001b[0m \u001b[0;32min\u001b[0m \u001b[0mself\u001b[0m\u001b[0;34m.\u001b[0m\u001b[0m_converted\u001b[0m\u001b[0;34m:\u001b[0m\u001b[0;34m\u001b[0m\u001b[0m\n",
      "\u001b[0;32m/home/jovyan/.local/lib/python3.5/site-packages/astropy/io/fits/fitsrec.py\u001b[0m in \u001b[0;36m_get_recarray_field\u001b[0;34m(array, key)\u001b[0m\n\u001b[1;32m   1291\u001b[0m     \u001b[0;31m# This is currently needed for backwards-compatibility and for\u001b[0m\u001b[0;34m\u001b[0m\u001b[0;34m\u001b[0m\u001b[0m\n\u001b[1;32m   1292\u001b[0m     \u001b[0;31m# automatic truncation of trailing whitespace\u001b[0m\u001b[0;34m\u001b[0m\u001b[0;34m\u001b[0m\u001b[0m\n\u001b[0;32m-> 1293\u001b[0;31m     \u001b[0mfield\u001b[0m \u001b[0;34m=\u001b[0m \u001b[0mnp\u001b[0m\u001b[0;34m.\u001b[0m\u001b[0mrecarray\u001b[0m\u001b[0;34m.\u001b[0m\u001b[0mfield\u001b[0m\u001b[0;34m(\u001b[0m\u001b[0marray\u001b[0m\u001b[0;34m,\u001b[0m \u001b[0mkey\u001b[0m\u001b[0;34m)\u001b[0m\u001b[0;34m\u001b[0m\u001b[0m\n\u001b[0m\u001b[1;32m   1294\u001b[0m     if (field.dtype.char in ('S', 'U') and\n\u001b[1;32m   1295\u001b[0m             not isinstance(field, chararray.chararray)):\n",
      "\u001b[0;32m/opt/conda/lib/python3.5/site-packages/numpy/core/records.py\u001b[0m in \u001b[0;36mfield\u001b[0;34m(self, attr, val)\u001b[0m\n\u001b[1;32m    553\u001b[0m         \u001b[0;32mif\u001b[0m \u001b[0mval\u001b[0m \u001b[0;32mis\u001b[0m \u001b[0;32mNone\u001b[0m\u001b[0;34m:\u001b[0m\u001b[0;34m\u001b[0m\u001b[0m\n\u001b[1;32m    554\u001b[0m             \u001b[0mobj\u001b[0m \u001b[0;34m=\u001b[0m \u001b[0mself\u001b[0m\u001b[0;34m.\u001b[0m\u001b[0mgetfield\u001b[0m\u001b[0;34m(\u001b[0m\u001b[0;34m*\u001b[0m\u001b[0mres\u001b[0m\u001b[0;34m)\u001b[0m\u001b[0;34m\u001b[0m\u001b[0m\n\u001b[0;32m--> 555\u001b[0;31m             \u001b[0;32mif\u001b[0m \u001b[0mobj\u001b[0m\u001b[0;34m.\u001b[0m\u001b[0mdtype\u001b[0m\u001b[0;34m.\u001b[0m\u001b[0mfields\u001b[0m\u001b[0;34m:\u001b[0m\u001b[0;34m\u001b[0m\u001b[0m\n\u001b[0m\u001b[1;32m    556\u001b[0m                 \u001b[0;32mreturn\u001b[0m \u001b[0mobj\u001b[0m\u001b[0;34m\u001b[0m\u001b[0m\n\u001b[1;32m    557\u001b[0m             \u001b[0;32mreturn\u001b[0m \u001b[0mobj\u001b[0m\u001b[0;34m.\u001b[0m\u001b[0mview\u001b[0m\u001b[0;34m(\u001b[0m\u001b[0mndarray\u001b[0m\u001b[0;34m)\u001b[0m\u001b[0;34m\u001b[0m\u001b[0m\n",
      "\u001b[0;31mKeyboardInterrupt\u001b[0m: "
     ]
    }
   ],
   "source": [
    "%%prun\n",
    "def readPTFFile(filename):\n",
    "    f = fits.open(filename)\n",
    "    data = f[1].data\n",
    "    field_names = list(set(data.names) - set(('MAG_APER', 'MAGERR_APER', 'FLUX_APER', 'FLUXERR_APER', 'FLUX_RADIUS')))\n",
    "    placeholders = {'htm_id': 0, 'obj_id': 0}\n",
    "    rows = [Row(**{field: row[field].item() for field in field_names}, **placeholders) for row in data]\n",
    "    return rows\n",
    "\n",
    "def add_htmid(object_tuple):\n",
    "    htm_obj = HTM(depth=7)\n",
    "    ra_field, dec_field = \"ALPHAWIN_J2000\", \"DELTAWIN_J2000\"\n",
    "    \n",
    "    ra = object_tuple[ra_field]\n",
    "    dec = object_tuple[dec_field]\n",
    "    htm_id = htm_obj.lookup_id(ra, dec)\n",
    "    \n",
    "    return htm_id.item()\n",
    "\n",
    "def match_sources(input_tuple):\n",
    "    htm_id, records = input_tuple\n",
    "    \n",
    "    ra_field, dec_field = \"ALPHAWIN_J2000\", \"DELTAWIN_J2000\"\n",
    "    \n",
    "    input_dict = {k: v for (k, v) in zip(range(len(records)), records)}\n",
    "    \n",
    "    ra = np.array([x[ra_field] for x in records])\n",
    "    dec = np.array([x[dec_field] for x in records])\n",
    "\n",
    "    tree = cKDTree(np.stack((ra, dec), axis=1))\n",
    "\n",
    "    candidate_groups = []\n",
    "    # First pass, just to get groupings\n",
    "    for this_id in range(len(ra)):\n",
    "        dists, idx = tree.query( (ra[this_id], dec[this_id]), k=15, distance_upper_bound=4/3600.0)\n",
    "        sel, = np.where((dists < 3/3600.0) & (idx != this_id))\n",
    "        this_group = [input_dict[this_id]]\n",
    "        for n in idx[sel]:\n",
    "            this_group.append((input_dict[n]))\n",
    "        candidate_groups.append(this_group)\n",
    "    \n",
    "    # Second pass uses the mean position of the sources in each group, then re-matches\n",
    "    # This potentially matches sources into multiple objects\n",
    "    output_groups = []\n",
    "    for candidate_group in candidate_groups:\n",
    "        mean_ra = np.mean(np.array([x[1] for x in candidate_group]))\n",
    "        mean_dec = np.mean(np.array([x[2] for x in candidate_group]))        \n",
    "        dists, idx = tree.query( (mean_ra, mean_dec), k=15, distance_upper_bound=4/3600.0)\n",
    "        sel, = np.where((dists < 3/3600.0))\n",
    "        this_group = []\n",
    "        for n in idx[sel]:\n",
    "            this_group.append((input_dict[n]))\n",
    "        output_groups.append(this_group)\n",
    "    return output_groups\n",
    "\n",
    "def apply_obj_id(input):\n",
    "    iterator, obj_id = input\n",
    "    return [Row(**values.asDict(), **{\"obj_id\": obj_id, \"htm_id\": add_htmid(values)}) for values in iterator]\n",
    "\n",
    "filenames = glob.glob(\"ptf_catalogs/*ctlg\")[:3]\n",
    "grouped_records = sc.parallelize(filenames).flatMap(readPTFFile).keyBy(add_htmid).groupByKey()\n",
    "matched_records = grouped_records.map(match_sources).flatMap(lambda x: x).zipWithUniqueId()\n",
    "tagged_source_records = matched_records.flatMap(apply_obj_id).collect()\n",
    "\n",
    "#field_names = list(set(data.names) - set(('MAG_APER', 'MAGERR_APER', 'FLUX_APER', 'FLUXERR_APER', 'FLUX_RADIUS')))\n",
    "#sources_df = spark.createDataFrame(tagged_source_records, schema=(\"source_id\", \"ra\", \"dec\"))"
   ]
  },
  {
   "cell_type": "markdown",
   "metadata": {},
   "source": [
    "Pandas version\n",
    "-----------"
   ]
  },
  {
   "cell_type": "code",
   "execution_count": 15,
   "metadata": {
    "collapsed": true
   },
   "outputs": [],
   "source": [
    "import pandas\n",
    "from astropy.table import Table"
   ]
  },
  {
   "cell_type": "code",
   "execution_count": 114,
   "metadata": {},
   "outputs": [
    {
     "name": "stdout",
     "output_type": "stream",
     "text": [
      "Number of HTM cells:  3\n",
      "Len  2841\n",
      "Len  1038\n",
      "Len  8753\n",
      " "
     ]
    }
   ],
   "source": [
    "%%time\n",
    "\n",
    "# This is a critical performance setting, since otherwise\n",
    "# pandas will manually call the garbage collector way too much\n",
    "# and that will dominate the runtime.\n",
    "pandas.set_option('mode.chained_assignment', None)\n",
    "\n",
    "def readPTFFile_pandas(filename):\n",
    "    table = Table.read(filename)\n",
    "    table.remove_columns(('MAG_APER', 'MAGERR_APER', 'FLUX_APER', 'FLUXERR_APER', 'FLUX_RADIUS'))\n",
    "    df = table.to_pandas()\n",
    "    return df\n",
    "\n",
    "def split_table_by_htmid(table):\n",
    "    # Return a set of tuples [ (htm_id, Table), ... ]\n",
    "    htm_obj = HTM(depth=5)\n",
    "    ra_field, dec_field = \"ALPHAWIN_J2000\", \"DELTAWIN_J2000\"\n",
    "    \n",
    "    ra = table[ra_field]\n",
    "    dec = table[dec_field]\n",
    "    htm_id = htm_obj.lookup_id(ra, dec)\n",
    "    table['htm_id'] = htm_id\n",
    "    htm_groups = table.groupby(htm_id)\n",
    "    return htm_groups\n",
    "\n",
    "def match_sources_pandas(input_tuple):\n",
    "    htm_id, table = input_tuple\n",
    "    \n",
    "    ra_field, dec_field = \"ALPHAWIN_J2000\", \"DELTAWIN_J2000\"    \n",
    "    ra = table[ra_field]\n",
    "    dec = table[dec_field]\n",
    "\n",
    "    tree = cKDTree(np.stack((np.array(ra), np.array(dec)), axis=1))\n",
    "    print(\"Len \", len(ra))\n",
    "\n",
    "    candidate_groups = []\n",
    "    # First pass, just to get groupings\n",
    "    for this_id in range(len(ra)):\n",
    "        dists, idx = tree.query( (ra.iloc[this_id], dec.iloc[this_id]), k=15, distance_upper_bound=4/3600.0)\n",
    "        sel, = np.where((dists < 3/3600.0) & (idx != this_id))\n",
    "        mean_ra = np.mean(candidate_table[ra_field])\n",
    "        mean_dec = np.mean(candidate_table[dec_field])        \n",
    "        candidate_groups.append(idx[sel])\n",
    "    \n",
    "    # Second pass uses the mean position of the sources in each group, then re-matches\n",
    "    # This potentially matches sources into multiple objects\n",
    "    output_groups = []\n",
    "    for candidate_group_idx in candidate_groups:\n",
    "        candidate_table = table.iloc[candidate_group_idx]\n",
    "        mean_ra = np.mean(candidate_table[ra_field])\n",
    "        mean_dec = np.mean(candidate_table[dec_field])\n",
    "        dists, idx = tree.query( (mean_ra, mean_dec), k=15, distance_upper_bound=4/3600.0)\n",
    "        sel, = np.where((dists < 3/3600.0))\n",
    "        output_groups.append(idx[sel])\n",
    "        \n",
    "    table['obj_id'] = 0\n",
    "    for n, group in enumerate(output_groups):\n",
    "        table['obj_id'].iloc[group] = htm_id*10000 + n\n",
    "\n",
    "    return table\n",
    "\n",
    "zeroValue = None\n",
    "def seqFunc(a, b):\n",
    "    if a is None:\n",
    "        return b\n",
    "    if b is None:\n",
    "        return a\n",
    "    return a.append(b)\n",
    "\n",
    "filenames = glob.glob(\"ptf_catalogs/*ctlg\")[:3]\n",
    "split_records = sc.parallelize(filenames).map(readPTFFile_pandas).flatMap(split_table_by_htmid)\n",
    "\n",
    "grouped_records = split_records.aggregateByKey(zeroValue, seqFunc, seqFunc)\n",
    "print(\"Number of HTM cells: \", grouped_records.count())\n",
    "\n",
    "matched_records = grouped_records.map(match_sources_pandas).collect()\n"
   ]
  },
  {
   "cell_type": "code",
   "execution_count": null,
   "metadata": {
    "collapsed": true
   },
   "outputs": [],
   "source": [
    "# 239 seconds for three files"
   ]
  },
  {
   "cell_type": "code",
   "execution_count": 113,
   "metadata": {},
   "outputs": [
    {
     "data": {
      "text/plain": [
       "3"
      ]
     },
     "execution_count": 113,
     "metadata": {},
     "output_type": "execute_result"
    }
   ],
   "source": [
    "3"
   ]
  },
  {
   "cell_type": "code",
   "execution_count": 109,
   "metadata": {},
   "outputs": [
    {
     "data": {
      "text/plain": [
       "30"
      ]
     },
     "execution_count": 109,
     "metadata": {},
     "output_type": "execute_result"
    }
   ],
   "source": [
    "grouped_records.count()"
   ]
  },
  {
   "cell_type": "code",
   "execution_count": 83,
   "metadata": {},
   "outputs": [
    {
     "name": "stdout",
     "output_type": "stream",
     "text": [
      "27515\n",
      "30\n",
      "30\n"
     ]
    }
   ],
   "source": [
    "print(sum(len(x[1]) for x in grouped_records))\n",
    "print(len(grouped_records))\n",
    "print(len(np.unique([x[0] for x in grouped_records])))"
   ]
  },
  {
   "cell_type": "code",
   "execution_count": 126,
   "metadata": {},
   "outputs": [
    {
     "data": {
      "text/plain": [
       "(array([[  1.34634114e-04,   2.28064392e-04,   2.86760228e-04,\n",
       "           5.72861103e-04],\n",
       "        [  5.54066038e-05,   8.57350378e-05,   9.07024027e-05,\n",
       "           1.72857427e-04],\n",
       "        [  1.33305391e-05,   1.03715084e-04,   1.54453634e-04,\n",
       "           1.63173604e-04],\n",
       "        ..., \n",
       "        [  4.59113699e-06,   1.04178061e-04,   2.28945420e-04,\n",
       "           3.69189623e-04],\n",
       "        [  1.48978776e-04,   2.56733980e-04,   2.92814947e-04,\n",
       "           4.28704740e-04],\n",
       "        [  1.39946119e-04,   2.29920207e-04,   2.83713474e-04,\n",
       "           3.76529026e-04]]), array([[4219, 2617, 3604,  138],\n",
       "        [3852,  305, 3919, 2524],\n",
       "        [ 902, 4056, 3190, 2201],\n",
       "        ..., \n",
       "        [ 278, 1974, 1078, 2122],\n",
       "        [3722, 3003, 3416, 3576],\n",
       "        [3450, 2094, 1556, 1830]]))"
      ]
     },
     "execution_count": 126,
     "metadata": {},
     "output_type": "execute_result"
    }
   ],
   "source": [
    "np.mean(f1[ra_field])\n",
    "ra = f1[ra_field]\n",
    "tree = cKDTree(np.stack((np.array(ra), np.array(ra)), axis=1))\n",
    "dists, indices = tree.query( np.stack((ra, ra), axis=1), k=range(2,6), )\n",
    "dists, indices"
   ]
  },
  {
   "cell_type": "code",
   "execution_count": 124,
   "metadata": {
    "collapsed": true
   },
   "outputs": [],
   "source": [
    "dest_idx, source_idx = np.meshgrid(np.arange(15), np.arange(len(ra)))"
   ]
  },
  {
   "cell_type": "code",
   "execution_count": 125,
   "metadata": {},
   "outputs": [
    {
     "data": {
      "text/plain": [
       "array([[   0,    0,    0, ...,    0,    0,    0],\n",
       "       [   1,    1,    1, ...,    1,    1,    1],\n",
       "       [   2,    2,    2, ...,    2,    2,    2],\n",
       "       ..., \n",
       "       [4347, 4347, 4347, ..., 4347, 4347, 4347],\n",
       "       [4348, 4348, 4348, ..., 4348, 4348, 4348],\n",
       "       [4349, 4349, 4349, ..., 4349, 4349, 4349]])"
      ]
     },
     "execution_count": 125,
     "metadata": {},
     "output_type": "execute_result"
    }
   ],
   "source": [
    "source_idx"
   ]
  },
  {
   "cell_type": "code",
   "execution_count": 120,
   "metadata": {},
   "outputs": [
    {
     "ename": "ValueError",
     "evalue": "too many values to unpack (expected 1)",
     "output_type": "error",
     "traceback": [
      "\u001b[0;31m---------------------------------------------------------------------------\u001b[0m",
      "\u001b[0;31mValueError\u001b[0m                                Traceback (most recent call last)",
      "\u001b[0;32m<ipython-input-120-b31a718d29b6>\u001b[0m in \u001b[0;36m<module>\u001b[0;34m()\u001b[0m\n\u001b[0;32m----> 1\u001b[0;31m \u001b[0msel\u001b[0m\u001b[0;34m,\u001b[0m \u001b[0;34m=\u001b[0m \u001b[0mnp\u001b[0m\u001b[0;34m.\u001b[0m\u001b[0mwhere\u001b[0m\u001b[0;34m(\u001b[0m\u001b[0mdists\u001b[0m \u001b[0;34m<\u001b[0m \u001b[0;36m3\u001b[0m\u001b[0;34m/\u001b[0m\u001b[0;36m3600.0\u001b[0m\u001b[0;34m)\u001b[0m\u001b[0;34m\u001b[0m\u001b[0m\n\u001b[0m",
      "\u001b[0;31mValueError\u001b[0m: too many values to unpack (expected 1)"
     ]
    }
   ],
   "source": [
    "sel, = np.where(dists_flat < 3/3600.0)\n"
   ]
  },
  {
   "cell_type": "code",
   "execution_count": 51,
   "metadata": {
    "collapsed": true
   },
   "outputs": [],
   "source": [
    "f1 = readPTFFile_pandas(filenames[0])\n",
    "f2 = readPTFFile_pandas(filenames[1])"
   ]
  },
  {
   "cell_type": "code",
   "execution_count": 88,
   "metadata": {},
   "outputs": [
    {
     "data": {
      "text/plain": [
       "NUMBER               3.000000e+00\n",
       "FLAGS                0.000000e+00\n",
       "XWIN_IMAGE           2.890227e+02\n",
       "YWIN_IMAGE           1.119977e+01\n",
       "X_WORLD              8.180505e+01\n",
       "Y_WORLD              1.894336e+00\n",
       "XPEAK_IMAGE          2.890000e+02\n",
       "YPEAK_IMAGE          1.100000e+01\n",
       "ERRTHETAWIN_IMAGE   -8.540615e+01\n",
       "DELTAWIN_J2000       1.894322e+00\n",
       "X2WIN_IMAGE          2.628784e-01\n",
       "Y2WIN_IMAGE          3.317448e-01\n",
       "XYWIN_IMAGE         -1.692092e-02\n",
       "AWIN_WORLD           1.630356e-04\n",
       "BWIN_WORLD           1.431539e-04\n",
       "MAG_ISO             -1.061281e+01\n",
       "MAGERR_ISO           3.537020e-02\n",
       "MAG_AUTO            -1.061281e+01\n",
       "MAGERR_AUTO          3.537020e-02\n",
       "MAG_ISOCOR          -1.070244e+01\n",
       "MAGERR_ISOCOR        4.134292e-02\n",
       "MAG_PETRO           -1.068183e+01\n",
       "MAGERR_PETRO         4.923702e-02\n",
       "MAG_BEST            -1.061281e+01\n",
       "MAGERR_BEST          3.537020e-02\n",
       "MU_THRESHOLD        -5.641225e+00\n",
       "MU_MAX              -9.194663e+00\n",
       "BACKGROUND           2.217480e+04\n",
       "THRESHOLD            1.838010e+02\n",
       "ALPHAWIN_J2000       8.180505e+01\n",
       "                         ...     \n",
       "XY_IMAGE            -1.945799e-02\n",
       "THETA_IMAGE         -7.769328e+01\n",
       "ERRAWIN_IMAGE        1.303914e-02\n",
       "ERRBWIN_IMAGE        1.277087e-02\n",
       "THETAWIN_WORLD       7.696707e+01\n",
       "ERRX2WIN_IMAGE       1.631394e-04\n",
       "ERRY2WIN_IMAGE       1.699747e-04\n",
       "ERRXYWIN_IMAGE      -5.527816e-07\n",
       "IMAFLAGS_ISO         1.940000e+02\n",
       "NIMAFLAGS_ISO        1.300000e+01\n",
       "ERRAWIN_WORLD        3.669222e-06\n",
       "ERRBWIN_WORLD        3.592642e-06\n",
       "ERRTHETAWIN_WORLD    8.516972e+01\n",
       "A_IMAGE              1.010877e+00\n",
       "ERRA_IMAGE           4.266478e-02\n",
       "B_IMAGE              9.635536e-01\n",
       "ERRB_IMAGE           4.234168e-02\n",
       "A_WORLD              2.844654e-04\n",
       "ERRA_WORLD           1.200528e-05\n",
       "B_WORLD              2.710586e-04\n",
       "ERRB_WORLD           1.191200e-05\n",
       "ERRTHETA_IMAGE       8.309186e+01\n",
       "ERRX2_IMAGE          1.793216e-03\n",
       "ERRY2_IMAGE          1.819886e-03\n",
       "ERRXY_IMAGE          3.279491e-06\n",
       "AWIN_IMAGE           5.793771e-01\n",
       "BWIN_IMAGE           5.088668e-01\n",
       "FLUX_PETRO           1.873831e+04\n",
       "FLUXERR_PETRO        8.495566e+02\n",
       "ZEROPOINT            2.680778e+01\n",
       "Name: 2, dtype: float64"
      ]
     },
     "execution_count": 88,
     "metadata": {},
     "output_type": "execute_result"
    }
   ],
   "source": [
    "f1.loc[2]"
   ]
  },
  {
   "cell_type": "code",
   "execution_count": 55,
   "metadata": {},
   "outputs": [
    {
     "data": {
      "text/plain": [
       "(4350, 4245)"
      ]
     },
     "execution_count": 55,
     "metadata": {},
     "output_type": "execute_result"
    }
   ],
   "source": [
    "len(f1), len(f2)"
   ]
  },
  {
   "cell_type": "code",
   "execution_count": 46,
   "metadata": {},
   "outputs": [
    {
     "name": "stdout",
     "output_type": "stream",
     "text": [
      "[245941 245945 245946 245947 245948 245949 245951]\n"
     ]
    }
   ],
   "source": [
    "table = df\n",
    "htm_obj = HTM(depth=7)\n",
    "ra_field, dec_field = \"ALPHAWIN_J2000\", \"DELTAWIN_J2000\"\n",
    "\n",
    "ra = table[ra_field]\n",
    "dec = table[dec_field]\n",
    "htm_id = htm_obj.lookup_id(ra, dec)\n",
    "print(np.unique(htm_id))\n",
    "htm_groups = table.groupby(htm_id)\n",
    "\n",
    "#table.add_column()"
   ]
  },
  {
   "cell_type": "code",
   "execution_count": 50,
   "metadata": {},
   "outputs": [
    {
     "name": "stdout",
     "output_type": "stream",
     "text": [
      "[312, 210, 872, 1409, 1373, 8, 166]\n",
      "[245941, 245945, 245946, 245947, 245948, 245949, 245951]\n"
     ]
    }
   ],
   "source": [
    "print([len(x[1]) for x in htm_groups])\n",
    "print([x[0] for x in htm_groups])"
   ]
  },
  {
   "cell_type": "code",
   "execution_count": 71,
   "metadata": {
    "collapsed": true
   },
   "outputs": [],
   "source": [
    "id, iterator = grouped_records[0]\n",
    "x = [x for x in iterator]"
   ]
  },
  {
   "cell_type": "code",
   "execution_count": 72,
   "metadata": {
    "collapsed": true
   },
   "outputs": [],
   "source": [
    "row = x[0]"
   ]
  },
  {
   "cell_type": "code",
   "execution_count": 9,
   "metadata": {},
   "outputs": [
    {
     "name": "stdout",
     "output_type": "stream",
     "text": [
      " "
     ]
    }
   ],
   "source": [
    "%prun\n",
    "x = 1234 + 213"
   ]
  },
  {
   "cell_type": "code",
   "execution_count": 29,
   "metadata": {
    "collapsed": true
   },
   "outputs": [],
   "source": [
    "rec = example_data[5]"
   ]
  },
  {
   "cell_type": "code",
   "execution_count": 62,
   "metadata": {},
   "outputs": [
    {
     "ename": "KeyError",
     "evalue": "\"Key 'FSDF' does not exist.\"",
     "output_type": "error",
     "traceback": [
      "\u001b[0;31m---------------------------------------------------------------------------\u001b[0m",
      "\u001b[0;31mValueError\u001b[0m                                Traceback (most recent call last)",
      "\u001b[0;32m/home/jovyan/.local/lib/python3.5/site-packages/astropy/io/fits/column.py\u001b[0m in \u001b[0;36m_get_index\u001b[0;34m(names, key)\u001b[0m\n\u001b[1;32m   1823\u001b[0m         \u001b[0;32mtry\u001b[0m\u001b[0;34m:\u001b[0m\u001b[0;34m\u001b[0m\u001b[0m\n\u001b[0;32m-> 1824\u001b[0;31m             \u001b[0mindx\u001b[0m \u001b[0;34m=\u001b[0m \u001b[0mnames\u001b[0m\u001b[0;34m.\u001b[0m\u001b[0mindex\u001b[0m\u001b[0;34m(\u001b[0m\u001b[0mkey\u001b[0m\u001b[0;34m.\u001b[0m\u001b[0mrstrip\u001b[0m\u001b[0;34m(\u001b[0m\u001b[0;34m)\u001b[0m\u001b[0;34m)\u001b[0m\u001b[0;34m\u001b[0m\u001b[0m\n\u001b[0m\u001b[1;32m   1825\u001b[0m         \u001b[0;32mexcept\u001b[0m \u001b[0mValueError\u001b[0m\u001b[0;34m:\u001b[0m\u001b[0;34m\u001b[0m\u001b[0m\n",
      "\u001b[0;31mValueError\u001b[0m: 'FSDF' is not in list",
      "\nDuring handling of the above exception, another exception occurred:\n",
      "\u001b[0;31mKeyError\u001b[0m                                  Traceback (most recent call last)",
      "\u001b[0;32m<ipython-input-62-a854c11b6f9e>\u001b[0m in \u001b[0;36m<module>\u001b[0;34m()\u001b[0m\n\u001b[0;32m----> 1\u001b[0;31m \u001b[0mrec\u001b[0m\u001b[0;34m[\u001b[0m\u001b[0;34m'FSDF'\u001b[0m\u001b[0;34m]\u001b[0m\u001b[0;34m.\u001b[0m\u001b[0mitem\u001b[0m\u001b[0;34m(\u001b[0m\u001b[0;34m)\u001b[0m \u001b[0;32mor\u001b[0m \u001b[0;34m\"junk\"\u001b[0m\u001b[0;34m\u001b[0m\u001b[0m\n\u001b[0m",
      "\u001b[0;32m/home/jovyan/.local/lib/python3.5/site-packages/astropy/io/fits/fitsrec.py\u001b[0m in \u001b[0;36m__getitem__\u001b[0;34m(self, key)\u001b[0m\n\u001b[1;32m     65\u001b[0m     \u001b[0;32mdef\u001b[0m \u001b[0m__getitem__\u001b[0m\u001b[0;34m(\u001b[0m\u001b[0mself\u001b[0m\u001b[0;34m,\u001b[0m \u001b[0mkey\u001b[0m\u001b[0;34m)\u001b[0m\u001b[0;34m:\u001b[0m\u001b[0;34m\u001b[0m\u001b[0m\n\u001b[1;32m     66\u001b[0m         \u001b[0;32mif\u001b[0m \u001b[0misinstance\u001b[0m\u001b[0;34m(\u001b[0m\u001b[0mkey\u001b[0m\u001b[0;34m,\u001b[0m \u001b[0mstring_types\u001b[0m\u001b[0;34m)\u001b[0m\u001b[0;34m:\u001b[0m\u001b[0;34m\u001b[0m\u001b[0m\n\u001b[0;32m---> 67\u001b[0;31m             \u001b[0mindx\u001b[0m \u001b[0;34m=\u001b[0m \u001b[0m_get_index\u001b[0m\u001b[0;34m(\u001b[0m\u001b[0mself\u001b[0m\u001b[0;34m.\u001b[0m\u001b[0marray\u001b[0m\u001b[0;34m.\u001b[0m\u001b[0mnames\u001b[0m\u001b[0;34m,\u001b[0m \u001b[0mkey\u001b[0m\u001b[0;34m)\u001b[0m\u001b[0;34m\u001b[0m\u001b[0m\n\u001b[0m\u001b[1;32m     68\u001b[0m \u001b[0;34m\u001b[0m\u001b[0m\n\u001b[1;32m     69\u001b[0m             \u001b[0;32mif\u001b[0m \u001b[0mindx\u001b[0m \u001b[0;34m<\u001b[0m \u001b[0mself\u001b[0m\u001b[0;34m.\u001b[0m\u001b[0mstart\u001b[0m \u001b[0;32mor\u001b[0m \u001b[0mindx\u001b[0m \u001b[0;34m>\u001b[0m \u001b[0mself\u001b[0m\u001b[0;34m.\u001b[0m\u001b[0mend\u001b[0m \u001b[0;34m-\u001b[0m \u001b[0;36m1\u001b[0m\u001b[0;34m:\u001b[0m\u001b[0;34m\u001b[0m\u001b[0m\n",
      "\u001b[0;32m/home/jovyan/.local/lib/python3.5/site-packages/astropy/io/fits/column.py\u001b[0m in \u001b[0;36m_get_index\u001b[0;34m(names, key)\u001b[0m\n\u001b[1;32m   1831\u001b[0m                 \u001b[0mindx\u001b[0m \u001b[0;34m=\u001b[0m \u001b[0mnames\u001b[0m\u001b[0;34m.\u001b[0m\u001b[0mindex\u001b[0m\u001b[0;34m(\u001b[0m\u001b[0m_key\u001b[0m\u001b[0;34m)\u001b[0m\u001b[0;34m\u001b[0m\u001b[0m\n\u001b[1;32m   1832\u001b[0m             \u001b[0;32melif\u001b[0m \u001b[0mcount\u001b[0m \u001b[0;34m==\u001b[0m \u001b[0;36m0\u001b[0m\u001b[0;34m:\u001b[0m\u001b[0;34m\u001b[0m\u001b[0m\n\u001b[0;32m-> 1833\u001b[0;31m                 \u001b[0;32mraise\u001b[0m \u001b[0mKeyError\u001b[0m\u001b[0;34m(\u001b[0m\u001b[0;34m\"Key '{}' does not exist.\"\u001b[0m\u001b[0;34m.\u001b[0m\u001b[0mformat\u001b[0m\u001b[0;34m(\u001b[0m\u001b[0mkey\u001b[0m\u001b[0;34m)\u001b[0m\u001b[0;34m)\u001b[0m\u001b[0;34m\u001b[0m\u001b[0m\n\u001b[0m\u001b[1;32m   1834\u001b[0m             \u001b[0;32melse\u001b[0m\u001b[0;34m:\u001b[0m              \u001b[0;31m# multiple match\u001b[0m\u001b[0;34m\u001b[0m\u001b[0m\n\u001b[1;32m   1835\u001b[0m                 \u001b[0;32mraise\u001b[0m \u001b[0mKeyError\u001b[0m\u001b[0;34m(\u001b[0m\u001b[0;34m\"Ambiguous key name '{}'.\"\u001b[0m\u001b[0;34m.\u001b[0m\u001b[0mformat\u001b[0m\u001b[0;34m(\u001b[0m\u001b[0mkey\u001b[0m\u001b[0;34m)\u001b[0m\u001b[0;34m)\u001b[0m\u001b[0;34m\u001b[0m\u001b[0m\n",
      "\u001b[0;31mKeyError\u001b[0m: \"Key 'FSDF' does not exist.\""
     ]
    }
   ],
   "source": [
    "rec['FSDF'].item() or \"junk\""
   ]
  },
  {
   "cell_type": "code",
   "execution_count": 50,
   "metadata": {},
   "outputs": [
    {
     "data": {
      "text/plain": [
       "['NUMBER',\n",
       " 'FLAGS',\n",
       " 'XWIN_IMAGE',\n",
       " 'YWIN_IMAGE',\n",
       " 'X_WORLD',\n",
       " 'Y_WORLD',\n",
       " 'XPEAK_IMAGE',\n",
       " 'YPEAK_IMAGE',\n",
       " 'ERRTHETAWIN_IMAGE',\n",
       " 'DELTAWIN_J2000',\n",
       " 'X2WIN_IMAGE',\n",
       " 'Y2WIN_IMAGE',\n",
       " 'XYWIN_IMAGE',\n",
       " 'AWIN_WORLD',\n",
       " 'BWIN_WORLD',\n",
       " 'MAG_ISO',\n",
       " 'MAGERR_ISO',\n",
       " 'MAG_AUTO',\n",
       " 'MAGERR_AUTO',\n",
       " 'MAG_ISOCOR',\n",
       " 'MAGERR_ISOCOR',\n",
       " 'MAG_APER',\n",
       " 'MAGERR_APER',\n",
       " 'MAG_PETRO',\n",
       " 'MAGERR_PETRO',\n",
       " 'MAG_BEST',\n",
       " 'MAGERR_BEST',\n",
       " 'MU_THRESHOLD',\n",
       " 'MU_MAX',\n",
       " 'BACKGROUND',\n",
       " 'THRESHOLD',\n",
       " 'ALPHAWIN_J2000',\n",
       " 'THETAWIN_IMAGE',\n",
       " 'THETAWIN_J2000',\n",
       " 'ELONGATION',\n",
       " 'ISOAREA_WORLD',\n",
       " 'ISOAREAF_WORLD',\n",
       " 'ISO0',\n",
       " 'ISO1',\n",
       " 'ISO2',\n",
       " 'ISO3',\n",
       " 'ISO4',\n",
       " 'ISO5',\n",
       " 'ISO6',\n",
       " 'ISO7',\n",
       " 'FWHM_IMAGE',\n",
       " 'KRON_RADIUS',\n",
       " 'PETRO_RADIUS',\n",
       " 'CLASS_STAR',\n",
       " 'FLUX_BEST',\n",
       " 'FLUXERR_BEST',\n",
       " 'FLUX_AUTO',\n",
       " 'FLUXERR_AUTO',\n",
       " 'FLUX_ISO',\n",
       " 'FLUXERR_ISO',\n",
       " 'FLUX_APER',\n",
       " 'FLUXERR_APER',\n",
       " 'X_IMAGE',\n",
       " 'Y_IMAGE',\n",
       " 'X2_IMAGE',\n",
       " 'Y2_IMAGE',\n",
       " 'XY_IMAGE',\n",
       " 'THETA_IMAGE',\n",
       " 'ERRAWIN_IMAGE',\n",
       " 'ERRBWIN_IMAGE',\n",
       " 'THETAWIN_WORLD',\n",
       " 'ERRX2WIN_IMAGE',\n",
       " 'ERRY2WIN_IMAGE',\n",
       " 'ERRXYWIN_IMAGE',\n",
       " 'FLUX_RADIUS',\n",
       " 'IMAFLAGS_ISO',\n",
       " 'NIMAFLAGS_ISO',\n",
       " 'ERRAWIN_WORLD',\n",
       " 'ERRBWIN_WORLD',\n",
       " 'ERRTHETAWIN_WORLD',\n",
       " 'A_IMAGE',\n",
       " 'ERRA_IMAGE',\n",
       " 'B_IMAGE',\n",
       " 'ERRB_IMAGE',\n",
       " 'A_WORLD',\n",
       " 'ERRA_WORLD',\n",
       " 'B_WORLD',\n",
       " 'ERRB_WORLD',\n",
       " 'ERRTHETA_IMAGE',\n",
       " 'ERRX2_IMAGE',\n",
       " 'ERRY2_IMAGE',\n",
       " 'ERRXY_IMAGE',\n",
       " 'AWIN_IMAGE',\n",
       " 'BWIN_IMAGE',\n",
       " 'FLUX_PETRO',\n",
       " 'FLUXERR_PETRO',\n",
       " 'ZEROPOINT']"
      ]
     },
     "execution_count": 50,
     "metadata": {},
     "output_type": "execute_result"
    }
   ],
   "source": [
    "example_data.names"
   ]
  },
  {
   "cell_type": "code",
   "execution_count": 37,
   "metadata": {},
   "outputs": [
    {
     "ename": "TypeError",
     "evalue": "type object argument after ** must be a mapping, not FITS_record",
     "output_type": "error",
     "traceback": [
      "\u001b[0;31m---------------------------------------------------------------------------\u001b[0m",
      "\u001b[0;31mTypeError\u001b[0m                                 Traceback (most recent call last)",
      "\u001b[0;32m<ipython-input-37-cd33d57f96cb>\u001b[0m in \u001b[0;36m<module>\u001b[0;34m()\u001b[0m\n\u001b[0;32m----> 1\u001b[0;31m \u001b[0mrec_row\u001b[0m \u001b[0;34m=\u001b[0m \u001b[0mRow\u001b[0m\u001b[0;34m(\u001b[0m\u001b[0;34m**\u001b[0m\u001b[0mrec\u001b[0m\u001b[0;34m)\u001b[0m\u001b[0;34m\u001b[0m\u001b[0m\n\u001b[0m\u001b[1;32m      2\u001b[0m \u001b[0mrec_row\u001b[0m\u001b[0;34m\u001b[0m\u001b[0m\n",
      "\u001b[0;31mTypeError\u001b[0m: type object argument after ** must be a mapping, not FITS_record"
     ]
    }
   ],
   "source": [
    "rec_row = Row(**rec)\n",
    "rec_row"
   ]
  },
  {
   "cell_type": "code",
   "execution_count": 42,
   "metadata": {},
   "outputs": [
    {
     "data": {
      "text/plain": [
       "numpy.float32"
      ]
     },
     "execution_count": 42,
     "metadata": {},
     "output_type": "execute_result"
    }
   ],
   "source": [
    "type(rec.field(\"FLUX_AUTO\"))"
   ]
  },
  {
   "cell_type": "code",
   "execution_count": 46,
   "metadata": {},
   "outputs": [
    {
     "data": {
      "text/plain": [
       "4350"
      ]
     },
     "execution_count": 46,
     "metadata": {},
     "output_type": "execute_result"
    }
   ],
   "source": [
    "len(rec.array)"
   ]
  },
  {
   "cell_type": "code",
   "execution_count": 47,
   "metadata": {},
   "outputs": [
    {
     "data": {
      "text/plain": [
       "4350"
      ]
     },
     "execution_count": 47,
     "metadata": {},
     "output_type": "execute_result"
    }
   ],
   "source": [
    "len(example_data)"
   ]
  },
  {
   "cell_type": "code",
   "execution_count": 25,
   "metadata": {
    "collapsed": true
   },
   "outputs": [],
   "source": [
    "htm, iterator = recs[0]\n",
    "x = [x for x in iterator]"
   ]
  },
  {
   "cell_type": "code",
   "execution_count": 28,
   "metadata": {},
   "outputs": [
    {
     "ename": "AttributeError",
     "evalue": "'FITS_record' object has no attribute 'dtype'",
     "output_type": "error",
     "traceback": [
      "\u001b[0;31m---------------------------------------------------------------------------\u001b[0m",
      "\u001b[0;31mAttributeError\u001b[0m                            Traceback (most recent call last)",
      "\u001b[0;32m<ipython-input-28-6c670251309a>\u001b[0m in \u001b[0;36m<module>\u001b[0;34m()\u001b[0m\n\u001b[0;32m----> 1\u001b[0;31m \u001b[0mx\u001b[0m\u001b[0;34m[\u001b[0m\u001b[0;36m0\u001b[0m\u001b[0;34m]\u001b[0m\u001b[0;34m.\u001b[0m\u001b[0mdtype\u001b[0m\u001b[0;34m\u001b[0m\u001b[0m\n\u001b[0m",
      "\u001b[0;31mAttributeError\u001b[0m: 'FITS_record' object has no attribute 'dtype'"
     ]
    }
   ],
   "source": [
    "x[0].dtype"
   ]
  },
  {
   "cell_type": "code",
   "execution_count": null,
   "metadata": {
    "collapsed": true
   },
   "outputs": [],
   "source": []
  }
 ],
 "metadata": {
  "kernelspec": {
   "display_name": "Python 3",
   "language": "python",
   "name": "python3"
  },
  "language_info": {
   "codemirror_mode": {
    "name": "ipython",
    "version": 3
   },
   "file_extension": ".py",
   "mimetype": "text/x-python",
   "name": "python",
   "nbconvert_exporter": "python",
   "pygments_lexer": "ipython3",
   "version": "3.5.2"
  }
 },
 "nbformat": 4,
 "nbformat_minor": 2
}
