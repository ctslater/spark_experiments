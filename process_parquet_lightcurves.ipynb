{
 "cells": [
  {
   "cell_type": "code",
   "execution_count": 2,
   "metadata": {},
   "outputs": [],
   "source": [
    "%matplotlib inline\n",
    "from __future__ import print_function\n",
    "import sys\n",
    "import numpy as np\n",
    "import matplotlib.pyplot as plt\n",
    "\n",
    "from operator import itemgetter"
   ]
  },
  {
   "cell_type": "markdown",
   "metadata": {},
   "source": [
    "This notebook runs on a local spark instance, not AWS."
   ]
  },
  {
   "cell_type": "code",
   "execution_count": 4,
   "metadata": {},
   "outputs": [],
   "source": [
    "from pyspark import SparkContext, SparkConf\n",
    "from pyspark.sql import SparkSession\n",
    "from pyspark.sql import Row\n",
    "\n",
    "sc = SparkContext('local[*]')\n",
    "sc.setLogLevel(\"WARN\")\n",
    "\n",
    "spark = SparkSession(sc)"
   ]
  },
  {
   "cell_type": "code",
   "execution_count": 18,
   "metadata": {},
   "outputs": [],
   "source": [
    "forcePhotSummary = spark.read.parquet(\"rrlyrae_summary.parquet\")\n",
    "forcePhotSummary.createOrReplaceTempView(\"forcePhotSummary\")\n",
    "\n",
    "forcePhot = spark.read.parquet(\"rrlyrae_test.parquet\")\n",
    "forcePhot.createOrReplaceTempView(\"forcePhot\")"
   ]
  },
  {
   "cell_type": "code",
   "execution_count": 14,
   "metadata": {},
   "outputs": [
    {
     "name": "stdout",
     "output_type": "stream",
     "text": [
      "+--------+\n",
      "|count(1)|\n",
      "+--------+\n",
      "|  136249|\n",
      "+--------+\n",
      "\n",
      "CPU times: user 0 ns, sys: 0 ns, total: 0 ns\n",
      "Wall time: 1.38 s\n"
     ]
    }
   ],
   "source": [
    "%%time\n",
    "count = spark.sql(\"SELECT count(*) FROM forcePhot\")\n",
    "count.show()"
   ]
  },
  {
   "cell_type": "code",
   "execution_count": 15,
   "metadata": {},
   "outputs": [
    {
     "name": "stdout",
     "output_type": "stream",
     "text": [
      "+--------+\n",
      "|count(1)|\n",
      "+--------+\n",
      "|   46409|\n",
      "+--------+\n",
      "\n",
      "CPU times: user 0 ns, sys: 0 ns, total: 0 ns\n",
      "Wall time: 680 ms\n"
     ]
    }
   ],
   "source": [
    "%%time\n",
    "count = spark.sql(\"SELECT count(*) FROM forcePhot WHERE mag < 16\")\n",
    "count.show()"
   ]
  },
  {
   "cell_type": "markdown",
   "metadata": {},
   "source": [
    "This command (below) was used for generating the summary statistics table, but is not necessary to repeat since we load in the saved results."
   ]
  },
  {
   "cell_type": "code",
   "execution_count": 55,
   "metadata": {
    "collapsed": true
   },
   "outputs": [],
   "source": [
    "#forcePhotSummary = spark.sql(\"SELECT lcId, count(*) as n_epochs, \"\n",
    "#                             \"min(mag) as min_mag, max(mag) as max_mag \"\n",
    "#                             \"FROM forcePhot GROUP BY lcId\")\n",
    "#forcePhotSummary.createOrReplaceTempView(\"forcePhotSummary\")"
   ]
  },
  {
   "cell_type": "code",
   "execution_count": 16,
   "metadata": {},
   "outputs": [
    {
     "name": "stdout",
     "output_type": "stream",
     "text": [
      "+---------+--------+------------------+------------------+\n",
      "|     lcId|n_epochs|           min_mag|           max_mag|\n",
      "+---------+--------+------------------+------------------+\n",
      "|853522439|     675|17.092892426172458|18.083258466619952|\n",
      "+---------+--------+------------------+------------------+\n",
      "\n"
     ]
    }
   ],
   "source": [
    "spark.sql(\"SELECT * from forcePhotSummary LIMIT 1\").show()"
   ]
  },
  {
   "cell_type": "code",
   "execution_count": 19,
   "metadata": {},
   "outputs": [
    {
     "data": {
      "text/plain": [
       "178"
      ]
     },
     "execution_count": 19,
     "metadata": {},
     "output_type": "execute_result"
    }
   ],
   "source": [
    "forcePhotSummary.count()"
   ]
  },
  {
   "cell_type": "code",
   "execution_count": 20,
   "metadata": {
    "collapsed": true
   },
   "outputs": [],
   "source": [
    "targetObjects = spark.sql(\"SELECT forcePhot.lcId, band, mag, mjd FROM  forcePhot \"\n",
    "                          \"JOIN forcePhotSummary ON (forcePhotSummary.lcId = forcePhot.lcId) \"\n",
    "                          \"WHERE forcePhotSummary.min_mag < 12\")"
   ]
  },
  {
   "cell_type": "code",
   "execution_count": 21,
   "metadata": {},
   "outputs": [
    {
     "data": {
      "text/plain": [
       "12812"
      ]
     },
     "execution_count": 21,
     "metadata": {},
     "output_type": "execute_result"
    }
   ],
   "source": [
    "targetObjects.count()"
   ]
  },
  {
   "cell_type": "code",
   "execution_count": 32,
   "metadata": {},
   "outputs": [
    {
     "data": {
      "text/plain": [
       "18"
      ]
     },
     "execution_count": 32,
     "metadata": {},
     "output_type": "execute_result"
    }
   ],
   "source": [
    "targetObjects.select(\"lcId\").distinct().count()"
   ]
  },
  {
   "cell_type": "code",
   "execution_count": 26,
   "metadata": {
    "collapsed": true
   },
   "outputs": [],
   "source": [
    "x = targetObjects.rdd.groupBy(itemgetter('lcId')).collect()"
   ]
  },
  {
   "cell_type": "code",
   "execution_count": 30,
   "metadata": {},
   "outputs": [
    {
     "data": {
      "text/plain": [
       "18"
      ]
     },
     "execution_count": 30,
     "metadata": {},
     "output_type": "execute_result"
    }
   ],
   "source": [
    "len(x)"
   ]
  },
  {
   "cell_type": "code",
   "execution_count": 44,
   "metadata": {
    "scrolled": false
   },
   "outputs": [
    {
     "data": {
      "text/plain": [
       "[[(287285255, 287285255, 287285255, 673, 11.482300352345973)],\n",
       " [(287458311, 287458311, 287458311, 675, 10.022322097977989)],\n",
       " [(287880199, 287880199, 287880199, 674, 10.001545780055375)],\n",
       " [(709769223, 709769223, 709769223, 675, 12.088193160696683)],\n",
       " [(287687687, 287687687, 287687687, 675, 8.923237627353485)],\n",
       " [(709873671, 709873671, 709873671, 674, 11.739290821059145)],\n",
       " [(709581831, 709581831, 709581831, 673, 11.799644730545701)],\n",
       " [(709583879, 709583879, 709583879, 673, 11.131700399771296)],\n",
       " [(709912583, 709912583, 709912583, 1349, 10.232110091720132)],\n",
       " [(709773319, 709773319, 709773319, 675, 11.852150355963804)],\n",
       " [(287305735, 287305735, 287305735, 674, 10.533753061649605)],\n",
       " [(287273991, 287273991, 287273991, 673, 9.9942437617196109)],\n",
       " [(709785607, 709785607, 709785607, 675, 11.506493569791211)],\n",
       " [(287548423, 287548423, 287548423, 675, 10.029157568184372)],\n",
       " [(709683207, 709683207, 709683207, 674, 10.323791706865439)],\n",
       " [(287335431, 287335431, 287335431, 675, 10.551860169670164)],\n",
       " [(709792775, 709792775, 709792775, 675, 12.150197805304547)],\n",
       " [(287323143, 287323143, 287323143, 675, 11.022330309328304)]]"
      ]
     },
     "execution_count": 44,
     "metadata": {},
     "output_type": "execute_result"
    }
   ],
   "source": [
    "def detailed_LC_analysis(input_rdd):\n",
    "    lcId, input_rows = input_rdd\n",
    "    mags = [x['mag'] for x in input_rows]\n",
    "    lcIds = [x['lcId'] for x in input_rows]\n",
    "    \n",
    "    return [(lcId, min(lcIds), max(lcIds), len(mags), np.nanmean(mags))]\n",
    "\n",
    "x = targetObjects.rdd.groupBy(itemgetter('lcId')).map(detailed_LC_analysis).collect()\n",
    "x"
   ]
  },
  {
   "cell_type": "code",
   "execution_count": null,
   "metadata": {
    "collapsed": true
   },
   "outputs": [],
   "source": []
  }
 ],
 "metadata": {
  "kernelspec": {
   "display_name": "Python 3",
   "language": "python",
   "name": "python3"
  },
  "language_info": {
   "codemirror_mode": {
    "name": "ipython",
    "version": 3
   },
   "file_extension": ".py",
   "mimetype": "text/x-python",
   "name": "python",
   "nbconvert_exporter": "python",
   "pygments_lexer": "ipython3",
   "version": "3.5.2"
  }
 },
 "nbformat": 4,
 "nbformat_minor": 2
}
