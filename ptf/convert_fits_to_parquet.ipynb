{
 "cells": [
  {
   "cell_type": "code",
   "execution_count": 1,
   "metadata": {},
   "outputs": [],
   "source": [
    "\n",
    "import numpy as np\n",
    "import glob\n",
    "import io\n",
    "import os\n",
    "import concurrent.futures\n",
    "import tempfile\n",
    "\n",
    "from astropy.table import Table\n",
    "import boto3\n",
    "import pandas\n",
    "import fastparquet"
   ]
  },
  {
   "cell_type": "code",
   "execution_count": 2,
   "metadata": {
    "collapsed": true
   },
   "outputs": [],
   "source": [
    "from pysparkling import Context\n",
    "sc = Context(max_retries=1, pool=concurrent.futures.ProcessPoolExecutor(16))"
   ]
  },
  {
   "cell_type": "code",
   "execution_count": 3,
   "metadata": {
    "collapsed": true
   },
   "outputs": [],
   "source": [
    "s3 = boto3.resource('s3')\n",
    "ptf_bucket = s3.Bucket(\"palomar-transient-factory\")\n",
    "\n",
    "bucket_keys = [x.key for x in ptf_bucket.objects.filter(Prefix=\"input_catalogs/\")]\n",
    "catalog_keys = [x for x in filter(lambda x: x.endswith(\"ctlg\"), bucket_keys)]"
   ]
  },
  {
   "cell_type": "code",
   "execution_count": 4,
   "metadata": {
    "collapsed": true
   },
   "outputs": [],
   "source": [
    "def readPTFFile_pandas_s3(key):\n",
    "    s3 = boto3.resource('s3')\n",
    "    ptf_bucket = s3.Bucket(\"palomar-transient-factory\")\n",
    "\n",
    "    with io.BytesIO() as f:\n",
    "        ret = ptf_bucket.download_fileobj(key, f)\n",
    "        f.seek(0)\n",
    "        ptf_table = Table.read(f, format=\"fits\")\n",
    "        \n",
    "    # These columns are arrays, unsupported by spark\n",
    "    ptf_table.remove_columns(('MAG_APER', 'MAGERR_APER', 'FLUX_APER', 'FLUXERR_APER', 'FLUX_RADIUS'))\n",
    "    df = ptf_table.to_pandas()\n",
    "    \n",
    "    # Convert flags from short into to 32 bit, otherwise unsupported by spark.\n",
    "    df['FLAGS'] = df['FLAGS'].astype(\"int32\")\n",
    "    \n",
    "    return (key, df)\n",
    "\n",
    "def write_parquet_s3(input_tuple):\n",
    "    key, df = input_tuple\n",
    "    s3 = boto3.resource('s3')\n",
    "    ptf_bucket = s3.Bucket(\"palomar-transient-factory\")\n",
    "    \n",
    "    output_key = os.path.join('input_parquet2', key.partition('/')[-1].replace('ctlg', 'parquet'))\n",
    "    with tempfile.NamedTemporaryFile(dir='/tmp2') as tmp_file:\n",
    "        filename = tmp_file.name \n",
    "        fastparquet.write(filename, df) \n",
    "        ptf_bucket.upload_file(filename, output_key)\n",
    "    return output_key\n",
    "    \n",
    "\n",
    "#split_records = sc.parallelize(catalog_keys, 500).map(readPTFFile_pandas_s3)."
   ]
  },
  {
   "cell_type": "code",
   "execution_count": null,
   "metadata": {},
   "outputs": [],
   "source": [
    "%%time\n",
    "output_keys = sc.parallelize(catalog_keys, 16).map(readPTFFile_pandas_s3).map(write_parquet_s3).collect()"
   ]
  },
  {
   "cell_type": "code",
   "execution_count": 57,
   "metadata": {
    "scrolled": true
   },
   "outputs": [
    {
     "data": {
      "text/plain": [
       "1999"
      ]
     },
     "execution_count": 57,
     "metadata": {},
     "output_type": "execute_result"
    }
   ],
   "source": [
    "len(output_keys)"
   ]
  },
  {
   "cell_type": "code",
   "execution_count": 58,
   "metadata": {
    "scrolled": true
   },
   "outputs": [
    {
     "data": {
      "text/plain": [
       "67997"
      ]
     },
     "execution_count": 58,
     "metadata": {},
     "output_type": "execute_result"
    }
   ],
   "source": [
    "len(catalog_keys)"
   ]
  },
  {
   "cell_type": "code",
   "execution_count": 34,
   "metadata": {},
   "outputs": [],
   "source": [
    "df_tuples = sc.parallelize(catalog_keys, 16).map(readPTFFile_pandas_s3).collect()"
   ]
  },
  {
   "cell_type": "code",
   "execution_count": 20,
   "metadata": {
    "collapsed": true
   },
   "outputs": [],
   "source": [
    "keyname, df = readPTFFile_pandas_s3(catalog_keys.__next__())"
   ]
  },
  {
   "cell_type": "code",
   "execution_count": null,
   "metadata": {
    "collapsed": true
   },
   "outputs": [],
   "source": []
  }
 ],
 "metadata": {
  "kernelspec": {
   "display_name": "Python 3",
   "language": "python",
   "name": "python3"
  },
  "language_info": {
   "codemirror_mode": {
    "name": "ipython",
    "version": 3
   },
   "file_extension": ".py",
   "mimetype": "text/x-python",
   "name": "python",
   "nbconvert_exporter": "python",
   "pygments_lexer": "ipython3",
   "version": "3.6.1"
  }
 },
 "nbformat": 4,
 "nbformat_minor": 2
}
