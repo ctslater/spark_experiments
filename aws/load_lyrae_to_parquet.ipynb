{
 "cells": [
  {
   "cell_type": "code",
   "execution_count": 94,
   "metadata": {
    "collapsed": true
   },
   "outputs": [],
   "source": [
    "%matplotlib inline\n",
    "from __future__ import print_function\n",
    "import sys\n",
    "import numpy as np\n",
    "import matplotlib.pyplot as plt\n",
    "\n",
    "import cPickle\n",
    "from operator import itemgetter"
   ]
  },
  {
   "cell_type": "code",
   "execution_count": 9,
   "metadata": {
    "collapsed": true
   },
   "outputs": [],
   "source": [
    "from pyspark import SparkContext, SparkConf\n",
    "from pyspark.sql import SparkSession\n",
    "from pyspark.sql import Row\n",
    "\n",
    "sc.setLogLevel(\"WARN\")\n"
   ]
  },
  {
   "cell_type": "code",
   "execution_count": 3,
   "metadata": {},
   "outputs": [],
   "source": [
    "with open(\"rrlyrae_lightcurves.pkl\") as f:\n",
    "    rrlyrae_lc, rrlyrae_truth = cPickle.load(f)"
   ]
  },
  {
   "cell_type": "code",
   "execution_count": 4,
   "metadata": {},
   "outputs": [],
   "source": [
    "single_rrlyrae = rrlyrae_lc[rrlyrae_lc.keys()[1]]"
   ]
  },
  {
   "cell_type": "code",
   "execution_count": 5,
   "metadata": {},
   "outputs": [
    {
     "data": {
      "image/png": "[encoded data removed]",
      "text/plain": [
       "<matplotlib.figure.Figure at 0x7f5bf6ee1910>"
      ]
     },
     "metadata": {},
     "output_type": "display_data"
    }
   ],
   "source": [
    "for band, band_data in single_rrlyrae.items():\n",
    "    plt.plot(band_data['mjd'], band_data['mag'], 'o')"
   ]
  },
  {
   "cell_type": "code",
   "execution_count": 6,
   "metadata": {},
   "outputs": [
    {
     "data": {
      "text/plain": [
       "[710199303, 853420039, 853094407, 853515271, 853237767]"
      ]
     },
     "execution_count": 6,
     "metadata": {},
     "output_type": "execute_result"
    }
   ],
   "source": [
    "rrlyrae_lc.keys()[:5]"
   ]
  },
  {
   "cell_type": "code",
   "execution_count": 32,
   "metadata": {},
   "outputs": [
    {
     "name": "stdout",
     "output_type": "stream",
     "text": [
      "CPU times: user 1.66 s, sys: 156 ms, total: 1.82 s\n",
      "Wall time: 1.72 s\n"
     ]
    }
   ],
   "source": [
    "%%time\n",
    "rows = []\n",
    "for lcId, single_rrlyrae in rrlyrae_lc.items():\n",
    "    for band, band_data in single_rrlyrae.items():\n",
    "        for mjd, mag in zip(band_data['mjd'], band_data['mag']):\n",
    "            # Have to include these calls to .item() to turn numpy types into the native\n",
    "            # python types that spark recognizes\n",
    "            row = Row(lcId=lcId.item(), band=band.item(), mjd=mjd.item(), mag=mag.item())\n",
    "            rows.append(row)"
   ]
  },
  {
   "cell_type": "code",
   "execution_count": 30,
   "metadata": {},
   "outputs": [
    {
     "data": {
      "text/plain": [
       "136249"
      ]
     },
     "execution_count": 30,
     "metadata": {},
     "output_type": "execute_result"
    }
   ],
   "source": [
    "len(rows)"
   ]
  },
  {
   "cell_type": "code",
   "execution_count": 33,
   "metadata": {},
   "outputs": [],
   "source": [
    "schemaForcePhot = spark.createDataFrame(rows)\n",
    "schemaForcePhot.createOrReplaceTempView(\"forcePhot\")"
   ]
  },
  {
   "cell_type": "code",
   "execution_count": 39,
   "metadata": {},
   "outputs": [
    {
     "name": "stdout",
     "output_type": "stream",
     "text": [
      "+--------+\n",
      "|count(1)|\n",
      "+--------+\n",
      "|  136249|\n",
      "+--------+\n",
      "\n",
      "CPU times: user 4 ms, sys: 0 ns, total: 4 ms\n",
      "Wall time: 345 ms\n"
     ]
    }
   ],
   "source": [
    "%%time\n",
    "count = spark.sql(\"SELECT count(*) FROM forcePhot\")\n",
    "count.show()"
   ]
  },
  {
   "cell_type": "code",
   "execution_count": 40,
   "metadata": {},
   "outputs": [
    {
     "name": "stdout",
     "output_type": "stream",
     "text": [
      "+--------+\n",
      "|count(1)|\n",
      "+--------+\n",
      "|   46409|\n",
      "+--------+\n",
      "\n",
      "CPU times: user 4 ms, sys: 0 ns, total: 4 ms\n",
      "Wall time: 584 ms\n"
     ]
    }
   ],
   "source": [
    "%%time\n",
    "count = spark.sql(\"SELECT count(*) FROM forcePhot WHERE mag < 16\")\n",
    "count.show()"
   ]
  },
  {
   "cell_type": "code",
   "execution_count": 42,
   "metadata": {},
   "outputs": [],
   "source": [
    "schemaForcePhot.write.save(\"s3://ctslater-spark/rrlyrae_test.parquet\")"
   ]
  },
  {
   "cell_type": "code",
   "execution_count": 55,
   "metadata": {},
   "outputs": [],
   "source": [
    "forcePhotSummary = spark.sql(\"SELECT lcId, count(*) as n_epochs, \"\n",
    "                             \"min(mag) as min_mag, max(mag) as max_mag \"\n",
    "                             \"FROM forcePhot GROUP BY lcId\")\n",
    "forcePhotSummary.createOrReplaceTempView(\"forcePhotSummary\")"
   ]
  },
  {
   "cell_type": "code",
   "execution_count": 58,
   "metadata": {},
   "outputs": [
    {
     "name": "stdout",
     "output_type": "stream",
     "text": [
      "+---------+--------+-----------------+------------------+\n",
      "|     lcId|n_epochs|          min_mag|           max_mag|\n",
      "+---------+--------+-----------------+------------------+\n",
      "|287458311|     675|9.787208520857845|10.512076579240924|\n",
      "+---------+--------+-----------------+------------------+\n",
      "\n"
     ]
    }
   ],
   "source": [
    "spark.sql(\"SELECT * from forcePhotSummary LIMIT 1\").show()"
   ]
  },
  {
   "cell_type": "code",
   "execution_count": 46,
   "metadata": {},
   "outputs": [
    {
     "data": {
      "text/plain": [
       "178"
      ]
     },
     "execution_count": 46,
     "metadata": {},
     "output_type": "execute_result"
    }
   ],
   "source": [
    "forcePhotSummary.count()"
   ]
  },
  {
   "cell_type": "code",
   "execution_count": 77,
   "metadata": {},
   "outputs": [
    {
     "data": {
      "text/plain": [
       "178"
      ]
     },
     "execution_count": 77,
     "metadata": {},
     "output_type": "execute_result"
    }
   ],
   "source": [
    "len(rrlyrae_lc)"
   ]
  },
  {
   "cell_type": "code",
   "execution_count": 62,
   "metadata": {},
   "outputs": [],
   "source": [
    "targetObjects = spark.sql(\"SELECT forcePhot.lcId, band, mag, mjd FROM  forcePhot \"\n",
    "                          \"JOIN forcePhotSummary ON (forcePhotSummary.lcId = forcePhot.lcId) \"\n",
    "                          \"WHERE forcePhotSummary.min_mag < 12\")"
   ]
  },
  {
   "cell_type": "code",
   "execution_count": 87,
   "metadata": {},
   "outputs": [
    {
     "data": {
      "text/plain": [
       "12812"
      ]
     },
     "execution_count": 87,
     "metadata": {},
     "output_type": "execute_result"
    }
   ],
   "source": [
    "targetObjects.count()"
   ]
  },
  {
   "cell_type": "code",
   "execution_count": 97,
   "metadata": {
    "scrolled": false
   },
   "outputs": [],
   "source": [
    "def detailed_LC_analysis(input_iter):\n",
    "    tuples = map(itemgetter(\"mag\", \"lcId\"), input_iter)\n",
    "    if len(tuples) == 0:\n",
    "        return []\n",
    "    mags = [x[0] for x in tuples]\n",
    "    lcId = [x[1] for x in tuples]\n",
    "    return [(min(lcId), max(lcId), len(mags), np.nanmean(mags))]\n",
    "\n",
    "x = targetObjects.repartition(\"lcId\").rdd.mapPartitions(detailed_LC_analysis).collect()"
   ]
  },
  {
   "cell_type": "code",
   "execution_count": 98,
   "metadata": {},
   "outputs": [
    {
     "data": {
      "text/plain": [
       "[(287458311, 287458311, 675, 10.022322097977989),\n",
       " (287273991, 287273991, 673, 9.9942437617196109),\n",
       " (709773319, 709773319, 675, 11.852150355963804),\n",
       " (709583879, 709583879, 673, 11.131700399771296),\n",
       " (709785607, 709785607, 675, 11.506493569791211),\n",
       " (287285255, 287285255, 673, 11.482300352345973),\n",
       " (709581831, 709581831, 673, 11.799644730545701),\n",
       " (287335431, 287335431, 675, 10.551860169670164),\n",
       " (287305735, 287305735, 674, 10.533753061649605),\n",
       " (709683207, 709683207, 674, 10.323791706865439),\n",
       " (287687687, 287687687, 675, 8.923237627353485),\n",
       " (287548423, 287548423, 675, 10.029157568184372),\n",
       " (287880199, 287880199, 674, 10.001545780055375),\n",
       " (287323143, 287323143, 675, 11.022330309328304),\n",
       " (709769223, 709769223, 675, 12.088193160696683),\n",
       " (709873671, 709912583, 2023, 10.73425532729823),\n",
       " (709792775, 709792775, 675, 12.150197805304547)]"
      ]
     },
     "execution_count": 98,
     "metadata": {},
     "output_type": "execute_result"
    }
   ],
   "source": [
    "x"
   ]
  },
  {
   "cell_type": "code",
   "execution_count": null,
   "metadata": {
    "collapsed": true
   },
   "outputs": [],
   "source": [
    "forcePhotSummary.write.save(\"s3://ctslater-spark/rrlyrae_summary.parquet\")"
   ]
  },
  {
   "cell_type": "code",
   "execution_count": null,
   "metadata": {
    "collapsed": true
   },
   "outputs": [],
   "source": []
  }
 ],
 "metadata": {
  "kernelspec": {
   "display_name": "PySpark",
   "language": "python",
   "name": "pyspark"
  },
  "language_info": {
   "codemirror_mode": {
    "name": "ipython",
    "version": 2
   },
   "file_extension": ".py",
   "mimetype": "text/x-python",
   "name": "python",
   "nbconvert_exporter": "python",
   "pygments_lexer": "ipython2",
   "version": "2.7.12"
  }
 },
 "nbformat": 4,
 "nbformat_minor": 2
}
