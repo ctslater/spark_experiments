{
 "cells": [
  {
   "cell_type": "code",
   "execution_count": 46,
   "metadata": {},
   "outputs": [],
   "source": [
    "import json\n",
    "import urllib2\n",
    "import boto3\n",
    "import collections\n",
    "import datetime"
   ]
  },
  {
   "cell_type": "code",
   "execution_count": 2,
   "metadata": {
    "collapsed": true
   },
   "outputs": [],
   "source": [
    "user_data = json.load(urllib2.urlopen(\"http://169.254.169.254/latest/user-data/\"))\n",
    "cluster_id = user_data['clusterId']"
   ]
  },
  {
   "cell_type": "code",
   "execution_count": 3,
   "metadata": {},
   "outputs": [
    {
     "data": {
      "text/plain": [
       "u'j-2RTYYX4G9QVHS'"
      ]
     },
     "execution_count": 3,
     "metadata": {},
     "output_type": "execute_result"
    }
   ],
   "source": [
    "cluster_id"
   ]
  },
  {
   "cell_type": "code",
   "execution_count": 21,
   "metadata": {},
   "outputs": [],
   "source": [
    "instances = emr.list_instances(ClusterId=cluster_id)\n",
    "\n",
    "ig_counter = collections.Counter([x['InstanceGroupId'] for x in instances['Instances']])\n",
    "worker_instance_group = ig_counter.most_common()[0][0]\n",
    "\n",
    "worker_instance_ids = [x['Ec2InstanceId'] for x in instances['Instances']\n",
    "                       if x['InstanceGroupId'] == worker_instance_group]"
   ]
  },
  {
   "cell_type": "code",
   "execution_count": 41,
   "metadata": {
    "scrolled": true
   },
   "outputs": [
    {
     "data": {
      "text/plain": [
       "[u'i-0873c72eac3538a6e', u'i-0535e727232ecc192']"
      ]
     },
     "execution_count": 41,
     "metadata": {},
     "output_type": "execute_result"
    }
   ],
   "source": [
    "worker_instance_ids"
   ]
  },
  {
   "cell_type": "code",
   "execution_count": 51,
   "metadata": {},
   "outputs": [
    {
     "data": {
      "text/plain": [
       "{u'Datapoints': [{u'Average': 0.384,\n",
       "   u'Timestamp': datetime.datetime(2017, 4, 19, 21, 43, tzinfo=tzlocal()),\n",
       "   u'Unit': 'Percent'},\n",
       "  {u'Average': 0.858,\n",
       "   u'Timestamp': datetime.datetime(2017, 4, 19, 21, 48, tzinfo=tzlocal()),\n",
       "   u'Unit': 'Percent'},\n",
       "  {u'Average': 0.442,\n",
       "   u'Timestamp': datetime.datetime(2017, 4, 19, 22, 8, tzinfo=tzlocal()),\n",
       "   u'Unit': 'Percent'},\n",
       "  {u'Average': 0.384,\n",
       "   u'Timestamp': datetime.datetime(2017, 4, 19, 21, 33, tzinfo=tzlocal()),\n",
       "   u'Unit': 'Percent'},\n",
       "  {u'Average': 0.35,\n",
       "   u'Timestamp': datetime.datetime(2017, 4, 19, 22, 13, tzinfo=tzlocal()),\n",
       "   u'Unit': 'Percent'},\n",
       "  {u'Average': 0.758,\n",
       "   u'Timestamp': datetime.datetime(2017, 4, 19, 21, 38, tzinfo=tzlocal()),\n",
       "   u'Unit': 'Percent'},\n",
       "  {u'Average': 0.33999999999999997,\n",
       "   u'Timestamp': datetime.datetime(2017, 4, 19, 21, 23, tzinfo=tzlocal()),\n",
       "   u'Unit': 'Percent'},\n",
       "  {u'Average': 0.6759999999999999,\n",
       "   u'Timestamp': datetime.datetime(2017, 4, 19, 22, 3, tzinfo=tzlocal()),\n",
       "   u'Unit': 'Percent'},\n",
       "  {u'Average': 0.36,\n",
       "   u'Timestamp': datetime.datetime(2017, 4, 19, 21, 28, tzinfo=tzlocal()),\n",
       "   u'Unit': 'Percent'},\n",
       "  {u'Average': 0.358,\n",
       "   u'Timestamp': datetime.datetime(2017, 4, 19, 21, 53, tzinfo=tzlocal()),\n",
       "   u'Unit': 'Percent'},\n",
       "  {u'Average': 0.35,\n",
       "   u'Timestamp': datetime.datetime(2017, 4, 19, 21, 58, tzinfo=tzlocal()),\n",
       "   u'Unit': 'Percent'}],\n",
       " u'Label': 'CPUUtilization',\n",
       " 'ResponseMetadata': {'HTTPHeaders': {'content-length': '1973',\n",
       "   'content-type': 'text/xml',\n",
       "   'date': 'Wed, 19 Apr 2017 22:22:33 GMT',\n",
       "   'x-amzn-requestid': 'af5f3afd-254e-11e7-ad7e-e51b87e87a30'},\n",
       "  'HTTPStatusCode': 200,\n",
       "  'RequestId': 'af5f3afd-254e-11e7-ad7e-e51b87e87a30',\n",
       "  'RetryAttempts': 0}}"
      ]
     },
     "execution_count": 51,
     "metadata": {},
     "output_type": "execute_result"
    }
   ],
   "source": [
    "worker_id = worker_instance_ids[0]\n",
    "\n",
    "end_time = datetime.datetime.now()\n",
    "start_time = end_time - datetime.timedelta(hours=1)\n",
    "\n",
    "cloudwatch = boto3.client('cloudwatch')\n",
    "cloudwatch.get_metric_statistics(Namespace=\"AWS/EC2\", MetricName=\"CPUUtilization\",\n",
    "                                 StartTime=start_time, EndTime=end_time, Period=60, Statistics=[\"Average\"],\n",
    "                                Dimensions=[{\"Name\": \"InstanceId\", \"Value\": worker_id}])"
   ]
  }
 ],
 "metadata": {
  "kernelspec": {
   "display_name": "Python 2",
   "language": "python",
   "name": "python2"
  },
  "language_info": {
   "codemirror_mode": {
    "name": "ipython",
    "version": 2
   },
   "file_extension": ".py",
   "mimetype": "text/x-python",
   "name": "python",
   "nbconvert_exporter": "python",
   "pygments_lexer": "ipython2",
   "version": "2.7.12"
  }
 },
 "nbformat": 4,
 "nbformat_minor": 2
}
